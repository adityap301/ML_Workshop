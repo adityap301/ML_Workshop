{
 "cells": [
  {
   "cell_type": "code",
   "execution_count": 2,
   "metadata": {},
   "outputs": [
    {
     "name": "stdout",
     "output_type": "stream",
     "text": [
      "X = 10, Y = 11\n"
     ]
    }
   ],
   "source": [
    "x = 10\n",
    "y = 11\n",
    "print(\"X = {}, Y = {}\".format(x, y))"
   ]
  },
  {
   "cell_type": "code",
   "execution_count": 4,
   "metadata": {},
   "outputs": [
    {
     "data": {
      "text/plain": [
       "0.833333"
      ]
     },
     "execution_count": 4,
     "metadata": {},
     "output_type": "execute_result"
    }
   ],
   "source": [
    "0.333333 + 0.50"
   ]
  },
  {
   "cell_type": "code",
   "execution_count": 5,
   "metadata": {},
   "outputs": [
    {
     "data": {
      "text/plain": [
       "0.5999999999"
      ]
     },
     "execution_count": 5,
     "metadata": {},
     "output_type": "execute_result"
    }
   ],
   "source": [
    "0.5 + 0.0999999999\n"
   ]
  },
  {
   "cell_type": "code",
   "execution_count": 6,
   "metadata": {},
   "outputs": [
    {
     "data": {
      "text/plain": [
       "0.30000000000000004"
      ]
     },
     "execution_count": 6,
     "metadata": {},
     "output_type": "execute_result"
    }
   ],
   "source": [
    "0.1 + 0.2"
   ]
  },
  {
   "cell_type": "code",
   "execution_count": 8,
   "metadata": {},
   "outputs": [],
   "source": [
    "x = [1, 2, 4, 24, 24, 24, 34, True, 20.311, \"Chotu\", \"Ramu\", 1212.12131]\n",
    "x.append(\"srsedrad\")"
   ]
  },
  {
   "cell_type": "code",
   "execution_count": 9,
   "metadata": {},
   "outputs": [
    {
     "name": "stdout",
     "output_type": "stream",
     "text": [
      "[1, 2, 4, 24, 24, 24, 34, True, 20.311, 'Chotu', 'Ramu', 1212.12131, 'srsedrad']\n"
     ]
    }
   ],
   "source": [
    "print(x)"
   ]
  },
  {
   "cell_type": "code",
   "execution_count": 10,
   "metadata": {},
   "outputs": [
    {
     "ename": "TypeError",
     "evalue": "'<' not supported between instances of 'str' and 'float'",
     "output_type": "error",
     "traceback": [
      "\u001b[0;31m---------------------------------------------------------------------------\u001b[0m",
      "\u001b[0;31mTypeError\u001b[0m                                 Traceback (most recent call last)",
      "\u001b[0;32m<ipython-input-10-5edff3203de0>\u001b[0m in \u001b[0;36m<module>\u001b[0;34m\u001b[0m\n\u001b[0;32m----> 1\u001b[0;31m \u001b[0mx\u001b[0m\u001b[0;34m.\u001b[0m\u001b[0msort\u001b[0m\u001b[0;34m(\u001b[0m\u001b[0;34m)\u001b[0m\u001b[0;34m\u001b[0m\u001b[0;34m\u001b[0m\u001b[0m\n\u001b[0m",
      "\u001b[0;31mTypeError\u001b[0m: '<' not supported between instances of 'str' and 'float'"
     ]
    }
   ],
   "source": [
    "x.sort()"
   ]
  },
  {
   "cell_type": "code",
   "execution_count": 11,
   "metadata": {},
   "outputs": [],
   "source": [
    "x.insert(1, \"qwq\")"
   ]
  },
  {
   "cell_type": "code",
   "execution_count": 12,
   "metadata": {},
   "outputs": [
    {
     "name": "stdout",
     "output_type": "stream",
     "text": [
      "[1, 'qwq', True, 2, 4, 20.311, 24, 24, 24, 34, 'Chotu', 'Ramu', 1212.12131, 'srsedrad']\n"
     ]
    }
   ],
   "source": [
    "print(x)"
   ]
  },
  {
   "cell_type": "code",
   "execution_count": 13,
   "metadata": {},
   "outputs": [],
   "source": [
    "x.insert(1000, \"qwq\")"
   ]
  },
  {
   "cell_type": "code",
   "execution_count": 14,
   "metadata": {},
   "outputs": [
    {
     "name": "stdout",
     "output_type": "stream",
     "text": [
      "[1, 'qwq', True, 2, 4, 20.311, 24, 24, 24, 34, 'Chotu', 'Ramu', 1212.12131, 'srsedrad', 'qwq']\n"
     ]
    }
   ],
   "source": [
    "print(x)"
   ]
  },
  {
   "cell_type": "code",
   "execution_count": 15,
   "metadata": {},
   "outputs": [],
   "source": [
    "y = [12, 312, 131, 1, 'qwq', True, 2, 4, 20.311, 24, 24, 24, 34, 'Chotu', 'Ramu', 1212.12131, 'srsedrad', 'qwq']"
   ]
  },
  {
   "cell_type": "code",
   "execution_count": 16,
   "metadata": {},
   "outputs": [
    {
     "data": {
      "text/plain": [
       "[1,\n",
       " 'qwq',\n",
       " True,\n",
       " 2,\n",
       " 4,\n",
       " 20.311,\n",
       " 24,\n",
       " 24,\n",
       " 24,\n",
       " 34,\n",
       " 'Chotu',\n",
       " 'Ramu',\n",
       " 1212.12131,\n",
       " 'srsedrad',\n",
       " 'qwq',\n",
       " 12,\n",
       " 312,\n",
       " 131,\n",
       " 1,\n",
       " 'qwq',\n",
       " True,\n",
       " 2,\n",
       " 4,\n",
       " 20.311,\n",
       " 24,\n",
       " 24,\n",
       " 24,\n",
       " 34,\n",
       " 'Chotu',\n",
       " 'Ramu',\n",
       " 1212.12131,\n",
       " 'srsedrad',\n",
       " 'qwq']"
      ]
     },
     "execution_count": 16,
     "metadata": {},
     "output_type": "execute_result"
    }
   ],
   "source": [
    "x + y"
   ]
  },
  {
   "cell_type": "code",
   "execution_count": 17,
   "metadata": {},
   "outputs": [],
   "source": [
    "x.extend(y)"
   ]
  },
  {
   "cell_type": "code",
   "execution_count": 18,
   "metadata": {},
   "outputs": [
    {
     "name": "stdout",
     "output_type": "stream",
     "text": [
      "[1, 'qwq', True, 2, 4, 20.311, 24, 24, 24, 34, 'Chotu', 'Ramu', 1212.12131, 'srsedrad', 'qwq', 12, 312, 131, 1, 'qwq', True, 2, 4, 20.311, 24, 24, 24, 34, 'Chotu', 'Ramu', 1212.12131, 'srsedrad', 'qwq']\n"
     ]
    }
   ],
   "source": [
    "print(x)\n"
   ]
  },
  {
   "cell_type": "code",
   "execution_count": 19,
   "metadata": {},
   "outputs": [
    {
     "name": "stdout",
     "output_type": "stream",
     "text": [
      "[12, 312, 131, 1, 'qwq', True, 2, 4, 20.311, 24, 24, 24, 34, 'Chotu', 'Ramu', 1212.12131, 'srsedrad', 'qwq']\n"
     ]
    }
   ],
   "source": [
    "print(y)"
   ]
  },
  {
   "cell_type": "code",
   "execution_count": 20,
   "metadata": {},
   "outputs": [],
   "source": [
    "x = [1, 2, 4]\n",
    "y = [1, 2, 3]"
   ]
  },
  {
   "cell_type": "code",
   "execution_count": 21,
   "metadata": {},
   "outputs": [
    {
     "data": {
      "text/plain": [
       "[1, 2, 4, 1, 2, 3]"
      ]
     },
     "execution_count": 21,
     "metadata": {},
     "output_type": "execute_result"
    }
   ],
   "source": [
    "x + y"
   ]
  },
  {
   "cell_type": "code",
   "execution_count": 22,
   "metadata": {},
   "outputs": [
    {
     "ename": "TypeError",
     "evalue": "can't multiply sequence by non-int of type 'list'",
     "output_type": "error",
     "traceback": [
      "\u001b[0;31m---------------------------------------------------------------------------\u001b[0m",
      "\u001b[0;31mTypeError\u001b[0m                                 Traceback (most recent call last)",
      "\u001b[0;32m<ipython-input-22-e32109319f52>\u001b[0m in \u001b[0;36m<module>\u001b[0;34m\u001b[0m\n\u001b[0;32m----> 1\u001b[0;31m \u001b[0mx\u001b[0m \u001b[0;34m*\u001b[0m \u001b[0my\u001b[0m\u001b[0;34m\u001b[0m\u001b[0;34m\u001b[0m\u001b[0m\n\u001b[0m",
      "\u001b[0;31mTypeError\u001b[0m: can't multiply sequence by non-int of type 'list'"
     ]
    }
   ],
   "source": [
    "x * y"
   ]
  },
  {
   "cell_type": "code",
   "execution_count": 23,
   "metadata": {},
   "outputs": [
    {
     "data": {
      "text/plain": [
       "3"
      ]
     },
     "execution_count": 23,
     "metadata": {},
     "output_type": "execute_result"
    }
   ],
   "source": [
    "x = (1, 2, 3, 2, 2, 4)\n",
    "x.count(2)"
   ]
  },
  {
   "cell_type": "code",
   "execution_count": 24,
   "metadata": {},
   "outputs": [
    {
     "data": {
      "text/plain": [
       "1"
      ]
     },
     "execution_count": 24,
     "metadata": {},
     "output_type": "execute_result"
    }
   ],
   "source": [
    "x.index(2)"
   ]
  },
  {
   "cell_type": "code",
   "execution_count": 25,
   "metadata": {},
   "outputs": [
    {
     "name": "stdout",
     "output_type": "stream",
     "text": [
      "('G', 'djh')\n"
     ]
    }
   ],
   "source": [
    "x = (\"G\", \"djh\")\n",
    "print(x)"
   ]
  },
  {
   "cell_type": "code",
   "execution_count": 26,
   "metadata": {},
   "outputs": [
    {
     "ename": "ValueError",
     "evalue": "tuple.index(x): x not in tuple",
     "output_type": "error",
     "traceback": [
      "\u001b[0;31m---------------------------------------------------------------------------\u001b[0m",
      "\u001b[0;31mValueError\u001b[0m                                Traceback (most recent call last)",
      "\u001b[0;32m<ipython-input-26-eb4fe4a7fff7>\u001b[0m in \u001b[0;36m<module>\u001b[0;34m\u001b[0m\n\u001b[0;32m----> 1\u001b[0;31m \u001b[0mx\u001b[0m\u001b[0;34m.\u001b[0m\u001b[0mindex\u001b[0m\u001b[0;34m(\u001b[0m\u001b[0;36m2\u001b[0m\u001b[0;34m)\u001b[0m\u001b[0;34m\u001b[0m\u001b[0;34m\u001b[0m\u001b[0m\n\u001b[0m\u001b[1;32m      2\u001b[0m \u001b[0;34m\u001b[0m\u001b[0m\n",
      "\u001b[0;31mValueError\u001b[0m: tuple.index(x): x not in tuple"
     ]
    }
   ],
   "source": [
    "x.index(2)\n",
    "\n"
   ]
  },
  {
   "cell_type": "code",
   "execution_count": 27,
   "metadata": {},
   "outputs": [
    {
     "ename": "ValueError",
     "evalue": "tuple.index(x): x not in tuple",
     "output_type": "error",
     "traceback": [
      "\u001b[0;31m---------------------------------------------------------------------------\u001b[0m",
      "\u001b[0;31mValueError\u001b[0m                                Traceback (most recent call last)",
      "\u001b[0;32m<ipython-input-27-225204402c9e>\u001b[0m in \u001b[0;36m<module>\u001b[0;34m\u001b[0m\n\u001b[0;32m----> 1\u001b[0;31m \u001b[0mx\u001b[0m\u001b[0;34m.\u001b[0m\u001b[0mindex\u001b[0m\u001b[0;34m(\u001b[0m\u001b[0;36m1\u001b[0m\u001b[0;34m)\u001b[0m\u001b[0;34m\u001b[0m\u001b[0;34m\u001b[0m\u001b[0m\n\u001b[0m",
      "\u001b[0;31mValueError\u001b[0m: tuple.index(x): x not in tuple"
     ]
    }
   ],
   "source": [
    "x.index(1)"
   ]
  },
  {
   "cell_type": "code",
   "execution_count": 28,
   "metadata": {},
   "outputs": [
    {
     "data": {
      "text/plain": [
       "0"
      ]
     },
     "execution_count": 28,
     "metadata": {},
     "output_type": "execute_result"
    }
   ],
   "source": [
    "x.index(\"G\")"
   ]
  },
  {
   "cell_type": "code",
   "execution_count": 29,
   "metadata": {},
   "outputs": [],
   "source": [
    "dic = {\n",
    "    1 : \"a\",\n",
    "    2 : \"b\",\n",
    "    3 : \"c\",\n",
    "    4 : \"d\"\n",
    "}"
   ]
  },
  {
   "cell_type": "code",
   "execution_count": 30,
   "metadata": {},
   "outputs": [
    {
     "data": {
      "text/plain": [
       "dict_keys([1, 2, 3, 4])"
      ]
     },
     "execution_count": 30,
     "metadata": {},
     "output_type": "execute_result"
    }
   ],
   "source": [
    "dic.keys()"
   ]
  },
  {
   "cell_type": "code",
   "execution_count": 31,
   "metadata": {},
   "outputs": [
    {
     "data": {
      "text/plain": [
       "dict_values(['a', 'b', 'c', 'd'])"
      ]
     },
     "execution_count": 31,
     "metadata": {},
     "output_type": "execute_result"
    }
   ],
   "source": [
    "dic.values()\n"
   ]
  },
  {
   "cell_type": "code",
   "execution_count": 32,
   "metadata": {},
   "outputs": [
    {
     "data": {
      "text/plain": [
       "dict_items([(1, 'a'), (2, 'b'), (3, 'c'), (4, 'd')])"
      ]
     },
     "execution_count": 32,
     "metadata": {},
     "output_type": "execute_result"
    }
   ],
   "source": [
    "dic.items()"
   ]
  },
  {
   "cell_type": "code",
   "execution_count": 33,
   "metadata": {},
   "outputs": [
    {
     "ename": "TypeError",
     "evalue": "pop expected at least 1 arguments, got 0",
     "output_type": "error",
     "traceback": [
      "\u001b[0;31m---------------------------------------------------------------------------\u001b[0m",
      "\u001b[0;31mTypeError\u001b[0m                                 Traceback (most recent call last)",
      "\u001b[0;32m<ipython-input-33-c5363285006c>\u001b[0m in \u001b[0;36m<module>\u001b[0;34m\u001b[0m\n\u001b[0;32m----> 1\u001b[0;31m \u001b[0mdic\u001b[0m\u001b[0;34m.\u001b[0m\u001b[0mpop\u001b[0m\u001b[0;34m(\u001b[0m\u001b[0;34m)\u001b[0m\u001b[0;34m\u001b[0m\u001b[0;34m\u001b[0m\u001b[0m\n\u001b[0m",
      "\u001b[0;31mTypeError\u001b[0m: pop expected at least 1 arguments, got 0"
     ]
    }
   ],
   "source": [
    "dic.pop()"
   ]
  },
  {
   "cell_type": "code",
   "execution_count": 34,
   "metadata": {},
   "outputs": [
    {
     "data": {
      "text/plain": [
       "'c'"
      ]
     },
     "execution_count": 34,
     "metadata": {},
     "output_type": "execute_result"
    }
   ],
   "source": [
    "dic.pop(3)"
   ]
  },
  {
   "cell_type": "code",
   "execution_count": 35,
   "metadata": {},
   "outputs": [
    {
     "name": "stdout",
     "output_type": "stream",
     "text": [
      "{1: 'a', 2: 'b', 4: 'd'}\n"
     ]
    }
   ],
   "source": [
    "print(dic)"
   ]
  },
  {
   "cell_type": "code",
   "execution_count": 1,
   "metadata": {},
   "outputs": [],
   "source": [
    "import numpy as np"
   ]
  },
  {
   "cell_type": "code",
   "execution_count": 3,
   "metadata": {},
   "outputs": [
    {
     "name": "stdout",
     "output_type": "stream",
     "text": [
      "[1 2 3] [3 4 5]\n"
     ]
    }
   ],
   "source": [
    "x = np.array([1, 2, 3])\n",
    "y = np.array([3, 4, 5])\n",
    "print(x, y)"
   ]
  },
  {
   "cell_type": "code",
   "execution_count": 4,
   "metadata": {},
   "outputs": [
    {
     "name": "stdout",
     "output_type": "stream",
     "text": [
      "[ 3  8 15]\n"
     ]
    }
   ],
   "source": [
    "print(x*y)"
   ]
  },
  {
   "cell_type": "code",
   "execution_count": 5,
   "metadata": {},
   "outputs": [
    {
     "name": "stdout",
     "output_type": "stream",
     "text": [
      "[4 6 8]\n"
     ]
    }
   ],
   "source": [
    "print(x + y)"
   ]
  },
  {
   "cell_type": "code",
   "execution_count": 6,
   "metadata": {},
   "outputs": [],
   "source": [
    "x = np.array([\n",
    "    [1, 2, 3],\n",
    "    [3, 4, 5]\n",
    "])"
   ]
  },
  {
   "cell_type": "code",
   "execution_count": 8,
   "metadata": {},
   "outputs": [
    {
     "name": "stdout",
     "output_type": "stream",
     "text": [
      "[[1 2 3]\n",
      " [3 4 5]]\n"
     ]
    }
   ],
   "source": [
    "print (x)\n"
   ]
  },
  {
   "cell_type": "code",
   "execution_count": 9,
   "metadata": {},
   "outputs": [
    {
     "ename": "TypeError",
     "evalue": "data type not understood",
     "output_type": "error",
     "traceback": [
      "\u001b[0;31m---------------------------------------------------------------------------\u001b[0m",
      "\u001b[0;31mTypeError\u001b[0m                                 Traceback (most recent call last)",
      "\u001b[0;32m<ipython-input-9-b1bca3f0323d>\u001b[0m in \u001b[0;36m<module>\u001b[0;34m\u001b[0m\n\u001b[0;32m----> 1\u001b[0;31m \u001b[0mnp\u001b[0m\u001b[0;34m.\u001b[0m\u001b[0mones\u001b[0m\u001b[0;34m(\u001b[0m\u001b[0;36m3\u001b[0m\u001b[0;34m,\u001b[0m \u001b[0;36m4\u001b[0m\u001b[0;34m)\u001b[0m\u001b[0;34m\u001b[0m\u001b[0;34m\u001b[0m\u001b[0m\n\u001b[0m",
      "\u001b[0;32m~/miniconda3/envs/ML_Workshop/lib/python3.7/site-packages/numpy/core/numeric.py\u001b[0m in \u001b[0;36mones\u001b[0;34m(shape, dtype, order)\u001b[0m\n\u001b[1;32m    221\u001b[0m \u001b[0;34m\u001b[0m\u001b[0m\n\u001b[1;32m    222\u001b[0m     \"\"\"\n\u001b[0;32m--> 223\u001b[0;31m     \u001b[0ma\u001b[0m \u001b[0;34m=\u001b[0m \u001b[0mempty\u001b[0m\u001b[0;34m(\u001b[0m\u001b[0mshape\u001b[0m\u001b[0;34m,\u001b[0m \u001b[0mdtype\u001b[0m\u001b[0;34m,\u001b[0m \u001b[0morder\u001b[0m\u001b[0;34m)\u001b[0m\u001b[0;34m\u001b[0m\u001b[0;34m\u001b[0m\u001b[0m\n\u001b[0m\u001b[1;32m    224\u001b[0m     \u001b[0mmultiarray\u001b[0m\u001b[0;34m.\u001b[0m\u001b[0mcopyto\u001b[0m\u001b[0;34m(\u001b[0m\u001b[0ma\u001b[0m\u001b[0;34m,\u001b[0m \u001b[0;36m1\u001b[0m\u001b[0;34m,\u001b[0m \u001b[0mcasting\u001b[0m\u001b[0;34m=\u001b[0m\u001b[0;34m'unsafe'\u001b[0m\u001b[0;34m)\u001b[0m\u001b[0;34m\u001b[0m\u001b[0;34m\u001b[0m\u001b[0m\n\u001b[1;32m    225\u001b[0m     \u001b[0;32mreturn\u001b[0m \u001b[0ma\u001b[0m\u001b[0;34m\u001b[0m\u001b[0;34m\u001b[0m\u001b[0m\n",
      "\u001b[0;31mTypeError\u001b[0m: data type not understood"
     ]
    }
   ],
   "source": [
    "np.ones(3, 4)"
   ]
  },
  {
   "cell_type": "code",
   "execution_count": 10,
   "metadata": {},
   "outputs": [
    {
     "ename": "TypeError",
     "evalue": "eye() missing 1 required positional argument: 'N'",
     "output_type": "error",
     "traceback": [
      "\u001b[0;31m---------------------------------------------------------------------------\u001b[0m",
      "\u001b[0;31mTypeError\u001b[0m                                 Traceback (most recent call last)",
      "\u001b[0;32m<ipython-input-10-004d77596f83>\u001b[0m in \u001b[0;36m<module>\u001b[0;34m\u001b[0m\n\u001b[0;32m----> 1\u001b[0;31m \u001b[0mnp\u001b[0m\u001b[0;34m.\u001b[0m\u001b[0meye\u001b[0m\u001b[0;34m(\u001b[0m\u001b[0;34m)\u001b[0m\u001b[0;34m\u001b[0m\u001b[0;34m\u001b[0m\u001b[0m\n\u001b[0m",
      "\u001b[0;31mTypeError\u001b[0m: eye() missing 1 required positional argument: 'N'"
     ]
    }
   ],
   "source": [
    "np.eye()"
   ]
  },
  {
   "cell_type": "code",
   "execution_count": 11,
   "metadata": {},
   "outputs": [
    {
     "data": {
      "text/plain": [
       "array([[1., 0., 0.],\n",
       "       [0., 1., 0.],\n",
       "       [0., 0., 1.]])"
      ]
     },
     "execution_count": 11,
     "metadata": {},
     "output_type": "execute_result"
    }
   ],
   "source": [
    "np.eye(3)"
   ]
  },
  {
   "cell_type": "code",
   "execution_count": 12,
   "metadata": {},
   "outputs": [
    {
     "data": {
      "text/plain": [
       "array([1., 1., 1.])"
      ]
     },
     "execution_count": 12,
     "metadata": {},
     "output_type": "execute_result"
    }
   ],
   "source": [
    "np.ones(3)"
   ]
  },
  {
   "cell_type": "code",
   "execution_count": 13,
   "metadata": {},
   "outputs": [
    {
     "data": {
      "text/plain": [
       "array([[1., 1., 1.],\n",
       "       [1., 1., 1.]])"
      ]
     },
     "execution_count": 13,
     "metadata": {},
     "output_type": "execute_result"
    }
   ],
   "source": [
    "np.ones([2, 3])"
   ]
  },
  {
   "cell_type": "code",
   "execution_count": 14,
   "metadata": {},
   "outputs": [
    {
     "ename": "AttributeError",
     "evalue": "module 'numpy' has no attribute 'zeroes'",
     "output_type": "error",
     "traceback": [
      "\u001b[0;31m---------------------------------------------------------------------------\u001b[0m",
      "\u001b[0;31mAttributeError\u001b[0m                            Traceback (most recent call last)",
      "\u001b[0;32m<ipython-input-14-1e12736921aa>\u001b[0m in \u001b[0;36m<module>\u001b[0;34m\u001b[0m\n\u001b[0;32m----> 1\u001b[0;31m \u001b[0mnp\u001b[0m\u001b[0;34m.\u001b[0m\u001b[0mzeroes\u001b[0m\u001b[0;34m(\u001b[0m\u001b[0;34m[\u001b[0m\u001b[0;36m2\u001b[0m\u001b[0;34m,\u001b[0m \u001b[0;36m3\u001b[0m\u001b[0;34m]\u001b[0m\u001b[0;34m)\u001b[0m\u001b[0;34m\u001b[0m\u001b[0;34m\u001b[0m\u001b[0m\n\u001b[0m",
      "\u001b[0;31mAttributeError\u001b[0m: module 'numpy' has no attribute 'zeroes'"
     ]
    }
   ],
   "source": [
    "np.zeroes([2, 3])"
   ]
  },
  {
   "cell_type": "code",
   "execution_count": 15,
   "metadata": {},
   "outputs": [
    {
     "ename": "AttributeError",
     "evalue": "module 'numpy' has no attribute 'zeroes'",
     "output_type": "error",
     "traceback": [
      "\u001b[0;31m---------------------------------------------------------------------------\u001b[0m",
      "\u001b[0;31mAttributeError\u001b[0m                            Traceback (most recent call last)",
      "\u001b[0;32m<ipython-input-15-b3ad42d36639>\u001b[0m in \u001b[0;36m<module>\u001b[0;34m\u001b[0m\n\u001b[0;32m----> 1\u001b[0;31m \u001b[0mnp\u001b[0m\u001b[0;34m.\u001b[0m\u001b[0mzeroes\u001b[0m\u001b[0;34m(\u001b[0m\u001b[0;34m)\u001b[0m\u001b[0;34m\u001b[0m\u001b[0;34m\u001b[0m\u001b[0m\n\u001b[0m",
      "\u001b[0;31mAttributeError\u001b[0m: module 'numpy' has no attribute 'zeroes'"
     ]
    }
   ],
   "source": [
    "np.zeroes()"
   ]
  },
  {
   "cell_type": "code",
   "execution_count": 16,
   "metadata": {},
   "outputs": [
    {
     "ename": "AttributeError",
     "evalue": "module 'numpy' has no attribute 'zero'",
     "output_type": "error",
     "traceback": [
      "\u001b[0;31m---------------------------------------------------------------------------\u001b[0m",
      "\u001b[0;31mAttributeError\u001b[0m                            Traceback (most recent call last)",
      "\u001b[0;32m<ipython-input-16-8209090ff8cb>\u001b[0m in \u001b[0;36m<module>\u001b[0;34m\u001b[0m\n\u001b[0;32m----> 1\u001b[0;31m \u001b[0mnp\u001b[0m\u001b[0;34m.\u001b[0m\u001b[0mzero\u001b[0m\u001b[0;34m(\u001b[0m\u001b[0;34m)\u001b[0m\u001b[0;34m\u001b[0m\u001b[0;34m\u001b[0m\u001b[0m\n\u001b[0m",
      "\u001b[0;31mAttributeError\u001b[0m: module 'numpy' has no attribute 'zero'"
     ]
    }
   ],
   "source": [
    "np.zero()\n"
   ]
  },
  {
   "cell_type": "code",
   "execution_count": 17,
   "metadata": {},
   "outputs": [
    {
     "data": {
      "text/plain": [
       "array([[1, 0],\n",
       "       [0, 2]])"
      ]
     },
     "execution_count": 17,
     "metadata": {},
     "output_type": "execute_result"
    }
   ],
   "source": [
    "np.diag([1,2])"
   ]
  },
  {
   "cell_type": "code",
   "execution_count": 18,
   "metadata": {},
   "outputs": [
    {
     "ename": "AttributeError",
     "evalue": "module 'numpy' has no attribute 'arrannge'",
     "output_type": "error",
     "traceback": [
      "\u001b[0;31m---------------------------------------------------------------------------\u001b[0m",
      "\u001b[0;31mAttributeError\u001b[0m                            Traceback (most recent call last)",
      "\u001b[0;32m<ipython-input-18-9fb268f9845e>\u001b[0m in \u001b[0;36m<module>\u001b[0;34m\u001b[0m\n\u001b[0;32m----> 1\u001b[0;31m \u001b[0mnp\u001b[0m\u001b[0;34m.\u001b[0m\u001b[0marrannge\u001b[0m\u001b[0;34m(\u001b[0m\u001b[0mstart\u001b[0m\u001b[0;34m=\u001b[0m\u001b[0;36m1\u001b[0m\u001b[0;34m,\u001b[0m \u001b[0mstop\u001b[0m\u001b[0;34m=\u001b[0m\u001b[0;36m10\u001b[0m\u001b[0;34m,\u001b[0m \u001b[0mstep\u001b[0m\u001b[0;34m=\u001b[0m\u001b[0;36m1\u001b[0m\u001b[0;34m)\u001b[0m\u001b[0;34m\u001b[0m\u001b[0;34m\u001b[0m\u001b[0m\n\u001b[0m",
      "\u001b[0;31mAttributeError\u001b[0m: module 'numpy' has no attribute 'arrannge'"
     ]
    }
   ],
   "source": [
    "np.arrannge(start=1, stop=10, step=1)"
   ]
  },
  {
   "cell_type": "code",
   "execution_count": 19,
   "metadata": {},
   "outputs": [
    {
     "ename": "AttributeError",
     "evalue": "module 'numpy' has no attribute 'arrange'",
     "output_type": "error",
     "traceback": [
      "\u001b[0;31m---------------------------------------------------------------------------\u001b[0m",
      "\u001b[0;31mAttributeError\u001b[0m                            Traceback (most recent call last)",
      "\u001b[0;32m<ipython-input-19-86ccb91332ac>\u001b[0m in \u001b[0;36m<module>\u001b[0;34m\u001b[0m\n\u001b[0;32m----> 1\u001b[0;31m \u001b[0mnp\u001b[0m\u001b[0;34m.\u001b[0m\u001b[0marrange\u001b[0m\u001b[0;34m(\u001b[0m\u001b[0mstart\u001b[0m\u001b[0;34m=\u001b[0m\u001b[0;36m1\u001b[0m\u001b[0;34m,\u001b[0m \u001b[0mstop\u001b[0m\u001b[0;34m=\u001b[0m\u001b[0;36m10\u001b[0m\u001b[0;34m,\u001b[0m \u001b[0mstep\u001b[0m\u001b[0;34m=\u001b[0m\u001b[0;36m1\u001b[0m\u001b[0;34m)\u001b[0m\u001b[0;34m\u001b[0m\u001b[0;34m\u001b[0m\u001b[0m\n\u001b[0m",
      "\u001b[0;31mAttributeError\u001b[0m: module 'numpy' has no attribute 'arrange'"
     ]
    }
   ],
   "source": [
    "np.arrange(start=1, stop=10, step=1)"
   ]
  },
  {
   "cell_type": "code",
   "execution_count": 20,
   "metadata": {},
   "outputs": [
    {
     "data": {
      "text/plain": [
       "array([1, 2, 3, 4, 5, 6, 7, 8, 9])"
      ]
     },
     "execution_count": 20,
     "metadata": {},
     "output_type": "execute_result"
    }
   ],
   "source": [
    "np.arange(start=1, stop=10, step=1)"
   ]
  },
  {
   "cell_type": "code",
   "execution_count": 21,
   "metadata": {},
   "outputs": [
    {
     "data": {
      "text/plain": [
       "array([[0.48422064, 0.7241093 ]])"
      ]
     },
     "execution_count": 21,
     "metadata": {},
     "output_type": "execute_result"
    }
   ],
   "source": [
    "np.random.random([1,2])"
   ]
  },
  {
   "cell_type": "code",
   "execution_count": 22,
   "metadata": {},
   "outputs": [
    {
     "data": {
      "text/plain": [
       "array([[0.67036386, 0.82765084],\n",
       "       [0.29384557, 0.62975667]])"
      ]
     },
     "execution_count": 22,
     "metadata": {},
     "output_type": "execute_result"
    }
   ],
   "source": [
    "np.random.random([2,2])"
   ]
  },
  {
   "cell_type": "code",
   "execution_count": 23,
   "metadata": {},
   "outputs": [
    {
     "data": {
      "text/plain": [
       "array([[[0.15944336, 0.49442558],\n",
       "        [0.37457838, 0.85530906]],\n",
       "\n",
       "       [[0.97931446, 0.08974595],\n",
       "        [0.55818684, 0.73317907]]])"
      ]
     },
     "execution_count": 23,
     "metadata": {},
     "output_type": "execute_result"
    }
   ],
   "source": [
    "np.random.random([2, 2, 2])"
   ]
  },
  {
   "cell_type": "code",
   "execution_count": 24,
   "metadata": {},
   "outputs": [
    {
     "ename": "NameError",
     "evalue": "name 'numpy' is not defined",
     "output_type": "error",
     "traceback": [
      "\u001b[0;31m---------------------------------------------------------------------------\u001b[0m",
      "\u001b[0;31mNameError\u001b[0m                                 Traceback (most recent call last)",
      "\u001b[0;32m<ipython-input-24-587a7aad9769>\u001b[0m in \u001b[0;36m<module>\u001b[0;34m\u001b[0m\n\u001b[0;32m----> 1\u001b[0;31m \u001b[0mnumpy\u001b[0m\u001b[0;34m.\u001b[0m\u001b[0mzeros\u001b[0m\u001b[0;34m(\u001b[0m\u001b[0;34m)\u001b[0m\u001b[0;34m\u001b[0m\u001b[0;34m\u001b[0m\u001b[0m\n\u001b[0m",
      "\u001b[0;31mNameError\u001b[0m: name 'numpy' is not defined"
     ]
    }
   ],
   "source": [
    "numpy.zeros()"
   ]
  },
  {
   "cell_type": "code",
   "execution_count": 25,
   "metadata": {},
   "outputs": [
    {
     "ename": "TypeError",
     "evalue": "zeros() missing required argument 'shape' (pos 1)",
     "output_type": "error",
     "traceback": [
      "\u001b[0;31m---------------------------------------------------------------------------\u001b[0m",
      "\u001b[0;31mTypeError\u001b[0m                                 Traceback (most recent call last)",
      "\u001b[0;32m<ipython-input-25-f08d7517924f>\u001b[0m in \u001b[0;36m<module>\u001b[0;34m\u001b[0m\n\u001b[0;32m----> 1\u001b[0;31m \u001b[0mnp\u001b[0m\u001b[0;34m.\u001b[0m\u001b[0mzeros\u001b[0m\u001b[0;34m(\u001b[0m\u001b[0;34m)\u001b[0m\u001b[0;34m\u001b[0m\u001b[0;34m\u001b[0m\u001b[0m\n\u001b[0m",
      "\u001b[0;31mTypeError\u001b[0m: zeros() missing required argument 'shape' (pos 1)"
     ]
    }
   ],
   "source": [
    "np.zeros()"
   ]
  },
  {
   "cell_type": "code",
   "execution_count": 26,
   "metadata": {},
   "outputs": [
    {
     "data": {
      "text/plain": [
       "array([[0., 0.]])"
      ]
     },
     "execution_count": 26,
     "metadata": {},
     "output_type": "execute_result"
    }
   ],
   "source": [
    "np.zeros([1,2])"
   ]
  },
  {
   "cell_type": "code",
   "execution_count": 27,
   "metadata": {},
   "outputs": [
    {
     "data": {
      "text/plain": [
       "array([[0., 0.],\n",
       "       [0., 0.],\n",
       "       [0., 0.],\n",
       "       [0., 0.],\n",
       "       [0., 0.],\n",
       "       [0., 0.],\n",
       "       [0., 0.],\n",
       "       [0., 0.],\n",
       "       [0., 0.],\n",
       "       [0., 0.]])"
      ]
     },
     "execution_count": 27,
     "metadata": {},
     "output_type": "execute_result"
    }
   ],
   "source": [
    "np.zeros([10, 2])"
   ]
  },
  {
   "cell_type": "code",
   "execution_count": 28,
   "metadata": {},
   "outputs": [
    {
     "data": {
      "text/plain": [
       "array([[[[0.77748386, 0.64917038],\n",
       "         [0.94082534, 0.91932889]],\n",
       "\n",
       "        [[0.66230733, 0.70208241],\n",
       "         [0.45869871, 0.26554487]]],\n",
       "\n",
       "\n",
       "       [[[0.90071573, 0.81843545],\n",
       "         [0.71314913, 0.75268996]],\n",
       "\n",
       "        [[0.68194477, 0.29199258],\n",
       "         [0.56629928, 0.17404446]]]])"
      ]
     },
     "execution_count": 28,
     "metadata": {},
     "output_type": "execute_result"
    }
   ],
   "source": [
    "np.random.random([2, 2, 2, 2])"
   ]
  },
  {
   "cell_type": "code",
   "execution_count": 29,
   "metadata": {},
   "outputs": [
    {
     "data": {
      "text/plain": [
       "array([129])"
      ]
     },
     "execution_count": 29,
     "metadata": {},
     "output_type": "execute_result"
    }
   ],
   "source": [
    "np.random.randint(low=1, high=200, size=1)"
   ]
  },
  {
   "cell_type": "code",
   "execution_count": 30,
   "metadata": {},
   "outputs": [
    {
     "data": {
      "text/plain": [
       "array([150,  26, 152, 109,  59, 163, 124,  35, 193,  10])"
      ]
     },
     "execution_count": 30,
     "metadata": {},
     "output_type": "execute_result"
    }
   ],
   "source": [
    "np.random.randint(low=1, high=200, size=10)"
   ]
  },
  {
   "cell_type": "code",
   "execution_count": 31,
   "metadata": {},
   "outputs": [
    {
     "data": {
      "text/plain": [
       "array([[ 70, 117, 114, 159,  61,  20, 169,  82, 184,  87]])"
      ]
     },
     "execution_count": 31,
     "metadata": {},
     "output_type": "execute_result"
    }
   ],
   "source": [
    "np.random.randint(low=1, high=200, size=[1, 10])"
   ]
  },
  {
   "cell_type": "code",
   "execution_count": 32,
   "metadata": {},
   "outputs": [],
   "source": [
    "x = np.random.randint(low=1, high=200, size=[12, 12])"
   ]
  },
  {
   "cell_type": "code",
   "execution_count": 33,
   "metadata": {},
   "outputs": [],
   "source": [
    "x = np.random.randint(low=1, high=200, size=[3, 3])"
   ]
  },
  {
   "cell_type": "code",
   "execution_count": 34,
   "metadata": {},
   "outputs": [
    {
     "name": "stdout",
     "output_type": "stream",
     "text": [
      "[[128 152  90]\n",
      " [159 163   8]\n",
      " [ 43  31 130]]\n"
     ]
    }
   ],
   "source": [
    "print(x)"
   ]
  },
  {
   "cell_type": "code",
   "execution_count": 35,
   "metadata": {},
   "outputs": [
    {
     "data": {
      "text/plain": [
       "array([[128, 159,  43],\n",
       "       [152, 163,  31],\n",
       "       [ 90,   8, 130]])"
      ]
     },
     "execution_count": 35,
     "metadata": {},
     "output_type": "execute_result"
    }
   ],
   "source": [
    "x.T     # Transpose\n"
   ]
  },
  {
   "cell_type": "code",
   "execution_count": 36,
   "metadata": {},
   "outputs": [],
   "source": [
    "from matplotlib import pyplot as plt"
   ]
  },
  {
   "cell_type": "code",
   "execution_count": 37,
   "metadata": {},
   "outputs": [],
   "source": [
    "x = np.random.random(3)\n",
    "y = np.random.random(3)"
   ]
  },
  {
   "cell_type": "code",
   "execution_count": 38,
   "metadata": {},
   "outputs": [
    {
     "name": "stdout",
     "output_type": "stream",
     "text": [
      "[0.33167542 0.21612923 0.70097416] [0.45857193 0.12253346 0.80960021]\n"
     ]
    }
   ],
   "source": [
    "print(x, y)"
   ]
  },
  {
   "cell_type": "code",
   "execution_count": 39,
   "metadata": {},
   "outputs": [
    {
     "data": {
      "text/plain": [
       "<matplotlib.collections.PathCollection at 0x7f5ec2606438>"
      ]
     },
     "execution_count": 39,
     "metadata": {},
     "output_type": "execute_result"
    },
    {
     "data": {
      "image/png": "[encoded data removed]",
      "text/plain": [
       "<Figure size 432x288 with 1 Axes>"
      ]
     },
     "metadata": {
      "needs_background": "light"
     },
     "output_type": "display_data"
    }
   ],
   "source": [
    "plt.scatter(x,y)"
   ]
  },
  {
   "cell_type": "code",
   "execution_count": 40,
   "metadata": {},
   "outputs": [
    {
     "data": {
      "image/png": "[encoded data removed]",
      "text/plain": [
       "<Figure size 432x288 with 1 Axes>"
      ]
     },
     "metadata": {
      "needs_background": "light"
     },
     "output_type": "display_data"
    }
   ],
   "source": [
    "plt.scatter(x, y, color=\"red\")\n",
    "plt.show()"
   ]
  },
  {
   "cell_type": "code",
   "execution_count": 41,
   "metadata": {},
   "outputs": [
    {
     "data": {
      "image/png": "[encoded data removed]",
      "text/plain": [
       "<Figure size 432x288 with 1 Axes>"
      ]
     },
     "metadata": {
      "needs_background": "light"
     },
     "output_type": "display_data"
    }
   ],
   "source": [
    "plt.bar(x, y, color=\"red\")\n",
    "plt.xlabel(\"x\")\n",
    "plt.ylabel(\"y\")\n",
    "plt.show()"
   ]
  },
  {
   "cell_type": "code",
   "execution_count": 42,
   "metadata": {},
   "outputs": [
    {
     "ename": "NameError",
     "evalue": "name 'a' is not defined",
     "output_type": "error",
     "traceback": [
      "\u001b[0;31m---------------------------------------------------------------------------\u001b[0m",
      "\u001b[0;31mNameError\u001b[0m                                 Traceback (most recent call last)",
      "\u001b[0;32m<ipython-input-42-de4e20cc48a5>\u001b[0m in \u001b[0;36m<module>\u001b[0;34m\u001b[0m\n\u001b[1;32m      1\u001b[0m \u001b[0mplt\u001b[0m\u001b[0;34m.\u001b[0m\u001b[0mscatter\u001b[0m\u001b[0;34m(\u001b[0m\u001b[0mx\u001b[0m\u001b[0;34m,\u001b[0m \u001b[0my\u001b[0m\u001b[0;34m,\u001b[0m \u001b[0mcolor\u001b[0m\u001b[0;34m=\u001b[0m\u001b[0;34m\"red\"\u001b[0m\u001b[0;34m,\u001b[0m \u001b[0mlabel\u001b[0m\u001b[0;34m=\u001b[0m\u001b[0;34m\"ml\"\u001b[0m\u001b[0;34m)\u001b[0m\u001b[0;34m\u001b[0m\u001b[0;34m\u001b[0m\u001b[0m\n\u001b[0;32m----> 2\u001b[0;31m \u001b[0mplt\u001b[0m\u001b[0;34m.\u001b[0m\u001b[0mscatter\u001b[0m\u001b[0;34m(\u001b[0m\u001b[0ma\u001b[0m\u001b[0;34m,\u001b[0m \u001b[0mb\u001b[0m\u001b[0;34m,\u001b[0m \u001b[0mcolor\u001b[0m\u001b[0;34m=\u001b[0m\u001b[0;34m\"blue\"\u001b[0m\u001b[0;34m,\u001b[0m \u001b[0mlabel\u001b[0m\u001b[0;34m=\u001b[0m\u001b[0;34m\"ml\"\u001b[0m\u001b[0;34m)\u001b[0m\u001b[0;34m\u001b[0m\u001b[0;34m\u001b[0m\u001b[0m\n\u001b[0m\u001b[1;32m      3\u001b[0m \u001b[0mplt\u001b[0m\u001b[0;34m.\u001b[0m\u001b[0mxlabel\u001b[0m\u001b[0;34m(\u001b[0m\u001b[0;34m\"x\"\u001b[0m\u001b[0;34m)\u001b[0m\u001b[0;34m\u001b[0m\u001b[0;34m\u001b[0m\u001b[0m\n\u001b[1;32m      4\u001b[0m \u001b[0mplt\u001b[0m\u001b[0;34m.\u001b[0m\u001b[0mylabel\u001b[0m\u001b[0;34m(\u001b[0m\u001b[0;34m\"y\"\u001b[0m\u001b[0;34m)\u001b[0m\u001b[0;34m\u001b[0m\u001b[0;34m\u001b[0m\u001b[0m\n\u001b[1;32m      5\u001b[0m \u001b[0mplt\u001b[0m\u001b[0;34m.\u001b[0m\u001b[0mlegend\u001b[0m\u001b[0;34m(\u001b[0m\u001b[0mloc\u001b[0m\u001b[0;34m=\u001b[0m\u001b[0;34m\"upper right\"\u001b[0m\u001b[0;34m)\u001b[0m\u001b[0;34m\u001b[0m\u001b[0;34m\u001b[0m\u001b[0m\n",
      "\u001b[0;31mNameError\u001b[0m: name 'a' is not defined"
     ]
    },
    {
     "data": {
      "image/png": "[encoded data removed]",
      "text/plain": [
       "<Figure size 432x288 with 1 Axes>"
      ]
     },
     "metadata": {
      "needs_background": "light"
     },
     "output_type": "display_data"
    }
   ],
   "source": [
    "a = np.random.random(3)\n",
    "b = np.random.random(3)\n",
    "x = np.random.random(3)\n",
    "y = np.random.random(3)\n",
    "plt.scatter(x, y, color=\"red\", label=\"ml\")\n",
    "plt.scatter(a, b, color=\"blue\", label=\"react\")\n",
    "plt.xlabel(\"x\")\n",
    "plt.ylabel(\"y\")\n",
    "plt.legend(loc=\"upper right\")\n",
    "plt.show()"
   ]
  },
  {
   "cell_type": "code",
   "execution_count": 43,
   "metadata": {},
   "outputs": [
    {
     "data": {
      "image/png": "[encoded data removed]",
      "text/plain": [
       "<Figure size 432x288 with 1 Axes>"
      ]
     },
     "metadata": {
      "needs_background": "light"
     },
     "output_type": "display_data"
    }
   ],
   "source": [
    "a = np.random.random(3)\n",
    "b = np.random.random(3)\n",
    "x = np.random.random(3)\n",
    "y = np.random.random(3)\n",
    "plt.scatter(x, y, color=\"red\", label=\"ml\")\n",
    "plt.scatter(a, b, color=\"blue\", label=\"react\")\n",
    "plt.xlabel(\"x\")\n",
    "plt.ylabel(\"y\")\n",
    "plt.legend(loc=\"upper right\")\n",
    "plt.show()"
   ]
  },
  {
   "cell_type": "code",
   "execution_count": 44,
   "metadata": {},
   "outputs": [
    {
     "ename": "AttributeError",
     "evalue": "module 'matplotlib.pyplot' has no attribute 'line'",
     "output_type": "error",
     "traceback": [
      "\u001b[0;31m---------------------------------------------------------------------------\u001b[0m",
      "\u001b[0;31mAttributeError\u001b[0m                            Traceback (most recent call last)",
      "\u001b[0;32m<ipython-input-44-de8f1274907f>\u001b[0m in \u001b[0;36m<module>\u001b[0;34m\u001b[0m\n\u001b[1;32m      4\u001b[0m \u001b[0my\u001b[0m \u001b[0;34m=\u001b[0m \u001b[0mnp\u001b[0m\u001b[0;34m.\u001b[0m\u001b[0mrandom\u001b[0m\u001b[0;34m.\u001b[0m\u001b[0mrandom\u001b[0m\u001b[0;34m(\u001b[0m\u001b[0;36m3\u001b[0m\u001b[0;34m)\u001b[0m\u001b[0;34m\u001b[0m\u001b[0;34m\u001b[0m\u001b[0m\n\u001b[1;32m      5\u001b[0m \u001b[0mplt\u001b[0m\u001b[0;34m.\u001b[0m\u001b[0mscatter\u001b[0m\u001b[0;34m(\u001b[0m\u001b[0mx\u001b[0m\u001b[0;34m,\u001b[0m \u001b[0my\u001b[0m\u001b[0;34m,\u001b[0m \u001b[0mcolor\u001b[0m\u001b[0;34m=\u001b[0m\u001b[0;34m\"red\"\u001b[0m\u001b[0;34m,\u001b[0m \u001b[0mlabel\u001b[0m\u001b[0;34m=\u001b[0m\u001b[0;34m\"ml\"\u001b[0m\u001b[0;34m)\u001b[0m\u001b[0;34m\u001b[0m\u001b[0;34m\u001b[0m\u001b[0m\n\u001b[0;32m----> 6\u001b[0;31m \u001b[0mplt\u001b[0m\u001b[0;34m.\u001b[0m\u001b[0mline\u001b[0m\u001b[0;34m(\u001b[0m\u001b[0ma\u001b[0m\u001b[0;34m,\u001b[0m \u001b[0mb\u001b[0m\u001b[0;34m,\u001b[0m \u001b[0mcolor\u001b[0m\u001b[0;34m=\u001b[0m\u001b[0;34m\"blue\"\u001b[0m\u001b[0;34m,\u001b[0m \u001b[0mlabel\u001b[0m\u001b[0;34m=\u001b[0m\u001b[0;34m\"react\"\u001b[0m\u001b[0;34m)\u001b[0m\u001b[0;34m\u001b[0m\u001b[0;34m\u001b[0m\u001b[0m\n\u001b[0m\u001b[1;32m      7\u001b[0m \u001b[0mplt\u001b[0m\u001b[0;34m.\u001b[0m\u001b[0mxlabel\u001b[0m\u001b[0;34m(\u001b[0m\u001b[0;34m\"x\"\u001b[0m\u001b[0;34m)\u001b[0m\u001b[0;34m\u001b[0m\u001b[0;34m\u001b[0m\u001b[0m\n\u001b[1;32m      8\u001b[0m \u001b[0mplt\u001b[0m\u001b[0;34m.\u001b[0m\u001b[0mylabel\u001b[0m\u001b[0;34m(\u001b[0m\u001b[0;34m\"y\"\u001b[0m\u001b[0;34m)\u001b[0m\u001b[0;34m\u001b[0m\u001b[0;34m\u001b[0m\u001b[0m\n",
      "\u001b[0;31mAttributeError\u001b[0m: module 'matplotlib.pyplot' has no attribute 'line'"
     ]
    },
    {
     "data": {
      "image/png": "[encoded data removed]",
      "text/plain": [
       "<Figure size 432x288 with 1 Axes>"
      ]
     },
     "metadata": {
      "needs_background": "light"
     },
     "output_type": "display_data"
    }
   ],
   "source": [
    "a = np.random.random(3)\n",
    "b = np.random.random(3)\n",
    "x = np.random.random(3)\n",
    "y = np.random.random(3)\n",
    "plt.scatter(x, y, color=\"red\", label=\"ml\")\n",
    "plt.line(a, b, color=\"blue\", label=\"react\")\n",
    "plt.xlabel(\"x\")\n",
    "plt.ylabel(\"y\")\n",
    "plt.legend(loc=\"upper right\")\n",
    "plt.show()"
   ]
  },
  {
   "cell_type": "code",
   "execution_count": 45,
   "metadata": {},
   "outputs": [
    {
     "data": {
      "image/png": "[encoded data removed]",
      "text/plain": [
       "<Figure size 432x288 with 1 Axes>"
      ]
     },
     "metadata": {
      "needs_background": "light"
     },
     "output_type": "display_data"
    }
   ],
   "source": [
    "a = np.random.random(3)\n",
    "b = np.random.random(3)\n",
    "x = np.random.random(3)\n",
    "y = np.random.random(3)\n",
    "plt.scatter(x, y, color=\"red\", label=\"ml\")\n",
    "plt.plot(a, b, color=\"blue\", label=\"react\")\n",
    "plt.xlabel(\"x\")\n",
    "plt.ylabel(\"y\")\n",
    "plt.legend(loc=\"upper right\")\n",
    "plt.show()"
   ]
  },
  {
   "cell_type": "code",
   "execution_count": 91,
   "metadata": {},
   "outputs": [],
   "source": [
    "x = np.random.randint(low=0, high=360, size=1000)\n",
    "x.sort()"
   ]
  },
  {
   "cell_type": "code",
   "execution_count": 92,
   "metadata": {},
   "outputs": [],
   "source": [
    "y = np.sin(x*np.pi/180)\n",
    "z = np.cos(x*np.pi/180)\n",
    "i = np.tan(x*np.pi/180)"
   ]
  },
  {
   "cell_type": "code",
   "execution_count": 93,
   "metadata": {},
   "outputs": [
    {
     "name": "stdout",
     "output_type": "stream",
     "text": [
      "[ 0.00000000e+00  1.74524064e-02  1.74524064e-02  5.23359562e-02\n",
      "  6.97564737e-02  6.97564737e-02  6.97564737e-02  6.97564737e-02\n",
      "  6.97564737e-02  6.97564737e-02  8.71557427e-02  8.71557427e-02\n",
      "  1.04528463e-01  1.04528463e-01  1.21869343e-01  1.21869343e-01\n",
      "  1.39173101e-01  1.39173101e-01  1.39173101e-01  1.56434465e-01\n",
      "  1.73648178e-01  1.73648178e-01  1.73648178e-01  1.73648178e-01\n",
      "  1.90808995e-01  1.90808995e-01  2.07911691e-01  2.07911691e-01\n",
      "  2.24951054e-01  2.24951054e-01  2.24951054e-01  2.24951054e-01\n",
      "  2.41921896e-01  2.41921896e-01  2.41921896e-01  2.41921896e-01\n",
      "  2.41921896e-01  2.41921896e-01  2.58819045e-01  2.58819045e-01\n",
      "  2.58819045e-01  2.58819045e-01  2.58819045e-01  2.58819045e-01\n",
      "  2.75637356e-01  2.75637356e-01  2.75637356e-01  2.92371705e-01\n",
      "  2.92371705e-01  2.92371705e-01  2.92371705e-01  3.09016994e-01\n",
      "  3.09016994e-01  3.09016994e-01  3.09016994e-01  3.09016994e-01\n",
      "  3.09016994e-01  3.25568154e-01  3.25568154e-01  3.42020143e-01\n",
      "  3.42020143e-01  3.42020143e-01  3.42020143e-01  3.42020143e-01\n",
      "  3.42020143e-01  3.42020143e-01  3.42020143e-01  3.42020143e-01\n",
      "  3.58367950e-01  3.58367950e-01  3.58367950e-01  3.74606593e-01\n",
      "  3.74606593e-01  3.74606593e-01  4.06736643e-01  4.06736643e-01\n",
      "  4.06736643e-01  4.22618262e-01  4.22618262e-01  4.38371147e-01\n",
      "  4.38371147e-01  4.38371147e-01  4.38371147e-01  4.38371147e-01\n",
      "  4.53990500e-01  4.53990500e-01  4.53990500e-01  4.53990500e-01\n",
      "  4.53990500e-01  4.53990500e-01  4.53990500e-01  4.84809620e-01\n",
      "  4.84809620e-01  4.84809620e-01  5.00000000e-01  5.00000000e-01\n",
      "  5.29919264e-01  5.44639035e-01  5.44639035e-01  5.73576436e-01\n",
      "  5.87785252e-01  6.01815023e-01  6.15661475e-01  6.15661475e-01\n",
      "  6.15661475e-01  6.15661475e-01  6.15661475e-01  6.29320391e-01\n",
      "  6.29320391e-01  6.29320391e-01  6.29320391e-01  6.42787610e-01\n",
      "  6.42787610e-01  6.42787610e-01  6.42787610e-01  6.56059029e-01\n",
      "  6.56059029e-01  6.56059029e-01  6.56059029e-01  6.56059029e-01\n",
      "  6.56059029e-01  6.69130606e-01  6.81998360e-01  6.81998360e-01\n",
      "  6.81998360e-01  6.94658370e-01  6.94658370e-01  6.94658370e-01\n",
      "  6.94658370e-01  7.19339800e-01  7.19339800e-01  7.19339800e-01\n",
      "  7.19339800e-01  7.31353702e-01  7.31353702e-01  7.31353702e-01\n",
      "  7.31353702e-01  7.31353702e-01  7.43144825e-01  7.43144825e-01\n",
      "  7.54709580e-01  7.54709580e-01  7.66044443e-01  7.77145961e-01\n",
      "  7.77145961e-01  7.77145961e-01  7.77145961e-01  7.88010754e-01\n",
      "  7.88010754e-01  7.98635510e-01  7.98635510e-01  7.98635510e-01\n",
      "  7.98635510e-01  8.09016994e-01  8.09016994e-01  8.09016994e-01\n",
      "  8.19152044e-01  8.19152044e-01  8.19152044e-01  8.19152044e-01\n",
      "  8.29037573e-01  8.29037573e-01  8.29037573e-01  8.48048096e-01\n",
      "  8.57167301e-01  8.66025404e-01  8.66025404e-01  8.74619707e-01\n",
      "  8.74619707e-01  8.82947593e-01  8.82947593e-01  8.82947593e-01\n",
      "  8.82947593e-01  8.82947593e-01  8.91006524e-01  8.91006524e-01\n",
      "  8.91006524e-01  8.91006524e-01  8.98794046e-01  9.06307787e-01\n",
      "  9.06307787e-01  9.06307787e-01  9.06307787e-01  9.13545458e-01\n",
      "  9.20504853e-01  9.20504853e-01  9.27183855e-01  9.27183855e-01\n",
      "  9.27183855e-01  9.27183855e-01  9.27183855e-01  9.33580426e-01\n",
      "  9.39692621e-01  9.39692621e-01  9.45518576e-01  9.45518576e-01\n",
      "  9.45518576e-01  9.51056516e-01  9.51056516e-01  9.56304756e-01\n",
      "  9.61261696e-01  9.65925826e-01  9.65925826e-01  9.65925826e-01\n",
      "  9.70295726e-01  9.70295726e-01  9.78147601e-01  9.78147601e-01\n",
      "  9.81627183e-01  9.81627183e-01  9.81627183e-01  9.84807753e-01\n",
      "  9.84807753e-01  9.87688341e-01  9.87688341e-01  9.87688341e-01\n",
      "  9.87688341e-01  9.90268069e-01  9.90268069e-01  9.90268069e-01\n",
      "  9.90268069e-01  9.92546152e-01  9.92546152e-01  9.92546152e-01\n",
      "  9.92546152e-01  9.92546152e-01  9.94521895e-01  9.94521895e-01\n",
      "  9.96194698e-01  9.96194698e-01  9.96194698e-01  9.96194698e-01\n",
      "  9.97564050e-01  9.97564050e-01  9.97564050e-01  9.97564050e-01\n",
      "  9.97564050e-01  9.97564050e-01  9.98629535e-01  9.98629535e-01\n",
      "  9.98629535e-01  9.98629535e-01  9.99390827e-01  9.99847695e-01\n",
      "  9.99847695e-01  1.00000000e+00  1.00000000e+00  1.00000000e+00\n",
      "  9.99847695e-01  9.98629535e-01  9.97564050e-01  9.97564050e-01\n",
      "  9.97564050e-01  9.96194698e-01  9.96194698e-01  9.96194698e-01\n",
      "  9.94521895e-01  9.94521895e-01  9.94521895e-01  9.92546152e-01\n",
      "  9.92546152e-01  9.90268069e-01  9.90268069e-01  9.87688341e-01\n",
      "  9.87688341e-01  9.87688341e-01  9.84807753e-01  9.84807753e-01\n",
      "  9.84807753e-01  9.84807753e-01  9.84807753e-01  9.84807753e-01\n",
      "  9.81627183e-01  9.81627183e-01  9.81627183e-01  9.78147601e-01\n",
      "  9.74370065e-01  9.74370065e-01  9.70295726e-01  9.70295726e-01\n",
      "  9.70295726e-01  9.65925826e-01  9.65925826e-01  9.61261696e-01\n",
      "  9.56304756e-01  9.56304756e-01  9.56304756e-01  9.51056516e-01\n",
      "  9.51056516e-01  9.51056516e-01  9.45518576e-01  9.45518576e-01\n",
      "  9.45518576e-01  9.39692621e-01  9.33580426e-01  9.33580426e-01\n",
      "  9.27183855e-01  9.27183855e-01  9.27183855e-01  9.27183855e-01\n",
      "  9.20504853e-01  9.20504853e-01  9.20504853e-01  9.20504853e-01\n",
      "  9.13545458e-01  9.13545458e-01  9.13545458e-01  9.13545458e-01\n",
      "  9.06307787e-01  9.06307787e-01  9.06307787e-01  9.06307787e-01\n",
      "  8.98794046e-01  8.98794046e-01  8.98794046e-01  8.98794046e-01\n",
      "  8.98794046e-01  8.91006524e-01  8.91006524e-01  8.91006524e-01\n",
      "  8.91006524e-01  8.82947593e-01  8.82947593e-01  8.82947593e-01\n",
      "  8.74619707e-01  8.74619707e-01  8.74619707e-01  8.66025404e-01\n",
      "  8.66025404e-01  8.66025404e-01  8.57167301e-01  8.57167301e-01\n",
      "  8.57167301e-01  8.57167301e-01  8.48048096e-01  8.48048096e-01\n",
      "  8.38670568e-01  8.38670568e-01  8.29037573e-01  8.29037573e-01\n",
      "  8.29037573e-01  8.29037573e-01  8.29037573e-01  8.19152044e-01\n",
      "  8.19152044e-01  8.09016994e-01  8.09016994e-01  8.09016994e-01\n",
      "  7.98635510e-01  7.98635510e-01  7.98635510e-01  7.98635510e-01\n",
      "  7.88010754e-01  7.88010754e-01  7.88010754e-01  7.88010754e-01\n",
      "  7.88010754e-01  7.77145961e-01  7.77145961e-01  7.77145961e-01\n",
      "  7.66044443e-01  7.66044443e-01  7.66044443e-01  7.66044443e-01\n",
      "  7.54709580e-01  7.54709580e-01  7.54709580e-01  7.43144825e-01\n",
      "  7.31353702e-01  7.31353702e-01  7.19339800e-01  7.19339800e-01\n",
      "  7.19339800e-01  7.19339800e-01  7.19339800e-01  7.19339800e-01\n",
      "  7.19339800e-01  7.19339800e-01  7.07106781e-01  7.07106781e-01\n",
      "  6.81998360e-01  6.81998360e-01  6.81998360e-01  6.69130606e-01\n",
      "  6.69130606e-01  6.56059029e-01  6.56059029e-01  6.56059029e-01\n",
      "  6.42787610e-01  6.42787610e-01  6.29320391e-01  6.29320391e-01\n",
      "  6.29320391e-01  6.15661475e-01  6.15661475e-01  6.15661475e-01\n",
      "  6.15661475e-01  6.01815023e-01  6.01815023e-01  6.01815023e-01\n",
      "  5.87785252e-01  5.87785252e-01  5.87785252e-01  5.87785252e-01\n",
      "  5.87785252e-01  5.87785252e-01  5.73576436e-01  5.73576436e-01\n",
      "  5.59192903e-01  5.59192903e-01  5.44639035e-01  5.44639035e-01\n",
      "  5.29919264e-01  5.29919264e-01  5.15038075e-01  5.15038075e-01\n",
      "  5.15038075e-01  5.15038075e-01  5.00000000e-01  5.00000000e-01\n",
      "  5.00000000e-01  5.00000000e-01  4.84809620e-01  4.84809620e-01\n",
      "  4.69471563e-01  4.69471563e-01  4.69471563e-01  4.53990500e-01\n",
      "  4.53990500e-01  4.38371147e-01  4.38371147e-01  4.22618262e-01\n",
      "  4.22618262e-01  4.06736643e-01  4.06736643e-01  4.06736643e-01\n",
      "  4.06736643e-01  3.90731128e-01  3.90731128e-01  3.90731128e-01\n",
      "  3.74606593e-01  3.74606593e-01  3.74606593e-01  3.58367950e-01\n",
      "  3.58367950e-01  3.58367950e-01  3.58367950e-01  3.58367950e-01\n",
      "  3.58367950e-01  3.58367950e-01  3.42020143e-01  3.42020143e-01\n",
      "  3.42020143e-01  3.42020143e-01  3.42020143e-01  3.42020143e-01\n",
      "  3.25568154e-01  3.25568154e-01  3.09016994e-01  3.09016994e-01\n",
      "  3.09016994e-01  3.09016994e-01  2.92371705e-01  2.92371705e-01\n",
      "  2.92371705e-01  2.75637356e-01  2.58819045e-01  2.58819045e-01\n",
      "  2.58819045e-01  2.58819045e-01  2.58819045e-01  2.41921896e-01\n",
      "  2.41921896e-01  2.24951054e-01  2.24951054e-01  2.24951054e-01\n",
      "  2.24951054e-01  2.24951054e-01  2.07911691e-01  2.07911691e-01\n",
      "  2.07911691e-01  2.07911691e-01  2.07911691e-01  1.90808995e-01\n",
      "  1.56434465e-01  1.56434465e-01  1.56434465e-01  1.39173101e-01\n",
      "  1.39173101e-01  1.39173101e-01  1.21869343e-01  1.21869343e-01\n",
      "  1.21869343e-01  1.04528463e-01  1.04528463e-01  8.71557427e-02\n",
      "  6.97564737e-02  6.97564737e-02  6.97564737e-02  5.23359562e-02\n",
      "  5.23359562e-02  5.23359562e-02  5.23359562e-02  3.48994967e-02\n",
      "  3.48994967e-02  1.74524064e-02  1.74524064e-02  1.74524064e-02\n",
      "  1.74524064e-02  1.74524064e-02  1.74524064e-02  1.74524064e-02\n",
      "  1.74524064e-02  1.22464680e-16  1.22464680e-16  1.22464680e-16\n",
      " -1.74524064e-02 -3.48994967e-02 -3.48994967e-02 -3.48994967e-02\n",
      " -3.48994967e-02 -5.23359562e-02 -5.23359562e-02 -5.23359562e-02\n",
      " -5.23359562e-02 -5.23359562e-02 -6.97564737e-02 -6.97564737e-02\n",
      " -6.97564737e-02 -6.97564737e-02 -8.71557427e-02 -8.71557427e-02\n",
      " -8.71557427e-02 -1.04528463e-01 -1.04528463e-01 -1.04528463e-01\n",
      " -1.04528463e-01 -1.21869343e-01 -1.21869343e-01 -1.21869343e-01\n",
      " -1.39173101e-01 -1.39173101e-01 -1.39173101e-01 -1.56434465e-01\n",
      " -1.56434465e-01 -1.73648178e-01 -1.73648178e-01 -1.73648178e-01\n",
      " -1.73648178e-01 -1.73648178e-01 -1.73648178e-01 -1.73648178e-01\n",
      " -1.90808995e-01 -1.90808995e-01 -2.24951054e-01 -2.24951054e-01\n",
      " -2.24951054e-01 -2.24951054e-01 -2.41921896e-01 -2.41921896e-01\n",
      " -2.58819045e-01 -2.75637356e-01 -2.75637356e-01 -2.92371705e-01\n",
      " -2.92371705e-01 -3.25568154e-01 -3.42020143e-01 -3.42020143e-01\n",
      " -3.58367950e-01 -3.58367950e-01 -3.58367950e-01 -3.74606593e-01\n",
      " -3.90731128e-01 -3.90731128e-01 -4.06736643e-01 -4.06736643e-01\n",
      " -4.22618262e-01 -4.22618262e-01 -4.22618262e-01 -4.38371147e-01\n",
      " -4.38371147e-01 -4.38371147e-01 -4.38371147e-01 -4.38371147e-01\n",
      " -4.38371147e-01 -4.38371147e-01 -4.53990500e-01 -4.69471563e-01\n",
      " -4.69471563e-01 -4.69471563e-01 -4.84809620e-01 -4.84809620e-01\n",
      " -4.84809620e-01 -4.84809620e-01 -5.00000000e-01 -5.00000000e-01\n",
      " -5.00000000e-01 -5.00000000e-01 -5.00000000e-01 -5.15038075e-01\n",
      " -5.29919264e-01 -5.29919264e-01 -5.29919264e-01 -5.29919264e-01\n",
      " -5.44639035e-01 -5.44639035e-01 -5.44639035e-01 -5.44639035e-01\n",
      " -5.59192903e-01 -5.59192903e-01 -5.73576436e-01 -5.73576436e-01\n",
      " -5.73576436e-01 -5.87785252e-01 -5.87785252e-01 -6.01815023e-01\n",
      " -6.15661475e-01 -6.15661475e-01 -6.29320391e-01 -6.42787610e-01\n",
      " -6.42787610e-01 -6.56059029e-01 -6.56059029e-01 -6.69130606e-01\n",
      " -6.69130606e-01 -6.69130606e-01 -6.81998360e-01 -6.81998360e-01\n",
      " -6.94658370e-01 -6.94658370e-01 -6.94658370e-01 -6.94658370e-01\n",
      " -6.94658370e-01 -7.07106781e-01 -7.07106781e-01 -7.19339800e-01\n",
      " -7.19339800e-01 -7.19339800e-01 -7.31353702e-01 -7.31353702e-01\n",
      " -7.31353702e-01 -7.43144825e-01 -7.43144825e-01 -7.54709580e-01\n",
      " -7.54709580e-01 -7.66044443e-01 -7.66044443e-01 -7.66044443e-01\n",
      " -7.77145961e-01 -7.77145961e-01 -7.88010754e-01 -7.98635510e-01\n",
      " -7.98635510e-01 -7.98635510e-01 -8.09016994e-01 -8.09016994e-01\n",
      " -8.09016994e-01 -8.19152044e-01 -8.19152044e-01 -8.19152044e-01\n",
      " -8.29037573e-01 -8.38670568e-01 -8.48048096e-01 -8.57167301e-01\n",
      " -8.57167301e-01 -8.66025404e-01 -8.66025404e-01 -8.74619707e-01\n",
      " -8.74619707e-01 -8.74619707e-01 -8.82947593e-01 -8.82947593e-01\n",
      " -8.91006524e-01 -8.91006524e-01 -8.98794046e-01 -8.98794046e-01\n",
      " -9.06307787e-01 -9.06307787e-01 -9.06307787e-01 -9.06307787e-01\n",
      " -9.13545458e-01 -9.13545458e-01 -9.13545458e-01 -9.13545458e-01\n",
      " -9.13545458e-01 -9.20504853e-01 -9.20504853e-01 -9.20504853e-01\n",
      " -9.20504853e-01 -9.27183855e-01 -9.27183855e-01 -9.33580426e-01\n",
      " -9.33580426e-01 -9.33580426e-01 -9.39692621e-01 -9.39692621e-01\n",
      " -9.39692621e-01 -9.39692621e-01 -9.39692621e-01 -9.45518576e-01\n",
      " -9.45518576e-01 -9.51056516e-01 -9.51056516e-01 -9.51056516e-01\n",
      " -9.56304756e-01 -9.61261696e-01 -9.61261696e-01 -9.61261696e-01\n",
      " -9.61261696e-01 -9.61261696e-01 -9.65925826e-01 -9.70295726e-01\n",
      " -9.70295726e-01 -9.70295726e-01 -9.70295726e-01 -9.74370065e-01\n",
      " -9.74370065e-01 -9.78147601e-01 -9.81627183e-01 -9.81627183e-01\n",
      " -9.84807753e-01 -9.84807753e-01 -9.84807753e-01 -9.84807753e-01\n",
      " -9.84807753e-01 -9.87688341e-01 -9.87688341e-01 -9.92546152e-01\n",
      " -9.94521895e-01 -9.94521895e-01 -9.94521895e-01 -9.94521895e-01\n",
      " -9.96194698e-01 -9.96194698e-01 -9.96194698e-01 -9.97564050e-01\n",
      " -9.97564050e-01 -9.97564050e-01 -9.98629535e-01 -9.98629535e-01\n",
      " -9.98629535e-01 -9.99390827e-01 -9.99390827e-01 -9.99847695e-01\n",
      " -9.99847695e-01 -9.99847695e-01 -9.99847695e-01 -9.99847695e-01\n",
      " -1.00000000e+00 -1.00000000e+00 -1.00000000e+00 -9.99847695e-01\n",
      " -9.99847695e-01 -9.99847695e-01 -9.99390827e-01 -9.99390827e-01\n",
      " -9.98629535e-01 -9.97564050e-01 -9.96194698e-01 -9.96194698e-01\n",
      " -9.94521895e-01 -9.94521895e-01 -9.94521895e-01 -9.92546152e-01\n",
      " -9.92546152e-01 -9.92546152e-01 -9.90268069e-01 -9.87688341e-01\n",
      " -9.87688341e-01 -9.87688341e-01 -9.87688341e-01 -9.87688341e-01\n",
      " -9.87688341e-01 -9.84807753e-01 -9.84807753e-01 -9.84807753e-01\n",
      " -9.84807753e-01 -9.81627183e-01 -9.81627183e-01 -9.81627183e-01\n",
      " -9.81627183e-01 -9.81627183e-01 -9.78147601e-01 -9.74370065e-01\n",
      " -9.74370065e-01 -9.74370065e-01 -9.70295726e-01 -9.70295726e-01\n",
      " -9.70295726e-01 -9.65925826e-01 -9.65925826e-01 -9.65925826e-01\n",
      " -9.61261696e-01 -9.61261696e-01 -9.56304756e-01 -9.56304756e-01\n",
      " -9.56304756e-01 -9.51056516e-01 -9.51056516e-01 -9.51056516e-01\n",
      " -9.39692621e-01 -9.39692621e-01 -9.39692621e-01 -9.39692621e-01\n",
      " -9.33580426e-01 -9.33580426e-01 -9.20504853e-01 -9.13545458e-01\n",
      " -9.13545458e-01 -9.13545458e-01 -9.13545458e-01 -9.06307787e-01\n",
      " -9.06307787e-01 -9.06307787e-01 -9.06307787e-01 -8.98794046e-01\n",
      " -8.98794046e-01 -8.98794046e-01 -8.91006524e-01 -8.91006524e-01\n",
      " -8.91006524e-01 -8.91006524e-01 -8.82947593e-01 -8.74619707e-01\n",
      " -8.74619707e-01 -8.74619707e-01 -8.74619707e-01 -8.74619707e-01\n",
      " -8.66025404e-01 -8.66025404e-01 -8.66025404e-01 -8.57167301e-01\n",
      " -8.57167301e-01 -8.57167301e-01 -8.57167301e-01 -8.48048096e-01\n",
      " -8.48048096e-01 -8.48048096e-01 -8.48048096e-01 -8.48048096e-01\n",
      " -8.48048096e-01 -8.38670568e-01 -8.38670568e-01 -8.38670568e-01\n",
      " -8.38670568e-01 -8.38670568e-01 -8.38670568e-01 -8.38670568e-01\n",
      " -8.29037573e-01 -8.29037573e-01 -8.29037573e-01 -8.19152044e-01\n",
      " -8.09016994e-01 -8.09016994e-01 -8.09016994e-01 -8.09016994e-01\n",
      " -7.98635510e-01 -7.88010754e-01 -7.88010754e-01 -7.88010754e-01\n",
      " -7.88010754e-01 -7.88010754e-01 -7.77145961e-01 -7.66044443e-01\n",
      " -7.66044443e-01 -7.54709580e-01 -7.54709580e-01 -7.43144825e-01\n",
      " -7.43144825e-01 -7.43144825e-01 -7.31353702e-01 -7.31353702e-01\n",
      " -7.31353702e-01 -7.19339800e-01 -7.19339800e-01 -7.19339800e-01\n",
      " -7.07106781e-01 -7.07106781e-01 -7.07106781e-01 -6.94658370e-01\n",
      " -6.94658370e-01 -6.94658370e-01 -6.81998360e-01 -6.69130606e-01\n",
      " -6.69130606e-01 -6.56059029e-01 -6.29320391e-01 -6.29320391e-01\n",
      " -6.29320391e-01 -6.29320391e-01 -6.29320391e-01 -6.29320391e-01\n",
      " -6.15661475e-01 -6.15661475e-01 -6.15661475e-01 -6.01815023e-01\n",
      " -6.01815023e-01 -5.87785252e-01 -5.87785252e-01 -5.87785252e-01\n",
      " -5.87785252e-01 -5.73576436e-01 -5.73576436e-01 -5.73576436e-01\n",
      " -5.73576436e-01 -5.59192903e-01 -5.59192903e-01 -5.59192903e-01\n",
      " -5.59192903e-01 -5.44639035e-01 -5.44639035e-01 -5.44639035e-01\n",
      " -5.44639035e-01 -5.29919264e-01 -5.29919264e-01 -5.29919264e-01\n",
      " -5.29919264e-01 -5.15038075e-01 -5.15038075e-01 -5.00000000e-01\n",
      " -5.00000000e-01 -5.00000000e-01 -5.00000000e-01 -5.00000000e-01\n",
      " -5.00000000e-01 -4.84809620e-01 -4.84809620e-01 -4.69471563e-01\n",
      " -4.69471563e-01 -4.53990500e-01 -4.53990500e-01 -4.53990500e-01\n",
      " -4.53990500e-01 -4.53990500e-01 -4.53990500e-01 -4.38371147e-01\n",
      " -4.38371147e-01 -4.22618262e-01 -4.22618262e-01 -4.22618262e-01\n",
      " -4.22618262e-01 -4.22618262e-01 -4.22618262e-01 -4.06736643e-01\n",
      " -3.90731128e-01 -3.90731128e-01 -3.74606593e-01 -3.74606593e-01\n",
      " -3.74606593e-01 -3.58367950e-01 -3.58367950e-01 -3.42020143e-01\n",
      " -3.42020143e-01 -3.25568154e-01 -3.25568154e-01 -2.92371705e-01\n",
      " -2.92371705e-01 -2.92371705e-01 -2.75637356e-01 -2.75637356e-01\n",
      " -2.75637356e-01 -2.75637356e-01 -2.58819045e-01 -2.58819045e-01\n",
      " -2.41921896e-01 -2.41921896e-01 -2.41921896e-01 -2.24951054e-01\n",
      " -2.24951054e-01 -2.24951054e-01 -2.07911691e-01 -1.90808995e-01\n",
      " -1.90808995e-01 -1.90808995e-01 -1.73648178e-01 -1.73648178e-01\n",
      " -1.73648178e-01 -1.73648178e-01 -1.56434465e-01 -1.21869343e-01\n",
      " -1.21869343e-01 -1.21869343e-01 -1.21869343e-01 -1.21869343e-01\n",
      " -1.21869343e-01 -1.04528463e-01 -1.04528463e-01 -8.71557427e-02\n",
      " -8.71557427e-02 -8.71557427e-02 -6.97564737e-02 -6.97564737e-02\n",
      " -6.97564737e-02 -6.97564737e-02 -6.97564737e-02 -5.23359562e-02\n",
      " -3.48994967e-02 -1.74524064e-02 -1.74524064e-02 -1.74524064e-02] [ 1.00000000e+00  9.99847695e-01  9.99847695e-01  9.98629535e-01\n",
      "  9.97564050e-01  9.97564050e-01  9.97564050e-01  9.97564050e-01\n",
      "  9.97564050e-01  9.97564050e-01  9.96194698e-01  9.96194698e-01\n",
      "  9.94521895e-01  9.94521895e-01  9.92546152e-01  9.92546152e-01\n",
      "  9.90268069e-01  9.90268069e-01  9.90268069e-01  9.87688341e-01\n",
      "  9.84807753e-01  9.84807753e-01  9.84807753e-01  9.84807753e-01\n",
      "  9.81627183e-01  9.81627183e-01  9.78147601e-01  9.78147601e-01\n",
      "  9.74370065e-01  9.74370065e-01  9.74370065e-01  9.74370065e-01\n",
      "  9.70295726e-01  9.70295726e-01  9.70295726e-01  9.70295726e-01\n",
      "  9.70295726e-01  9.70295726e-01  9.65925826e-01  9.65925826e-01\n",
      "  9.65925826e-01  9.65925826e-01  9.65925826e-01  9.65925826e-01\n",
      "  9.61261696e-01  9.61261696e-01  9.61261696e-01  9.56304756e-01\n",
      "  9.56304756e-01  9.56304756e-01  9.56304756e-01  9.51056516e-01\n",
      "  9.51056516e-01  9.51056516e-01  9.51056516e-01  9.51056516e-01\n",
      "  9.51056516e-01  9.45518576e-01  9.45518576e-01  9.39692621e-01\n",
      "  9.39692621e-01  9.39692621e-01  9.39692621e-01  9.39692621e-01\n",
      "  9.39692621e-01  9.39692621e-01  9.39692621e-01  9.39692621e-01\n",
      "  9.33580426e-01  9.33580426e-01  9.33580426e-01  9.27183855e-01\n",
      "  9.27183855e-01  9.27183855e-01  9.13545458e-01  9.13545458e-01\n",
      "  9.13545458e-01  9.06307787e-01  9.06307787e-01  8.98794046e-01\n",
      "  8.98794046e-01  8.98794046e-01  8.98794046e-01  8.98794046e-01\n",
      "  8.91006524e-01  8.91006524e-01  8.91006524e-01  8.91006524e-01\n",
      "  8.91006524e-01  8.91006524e-01  8.91006524e-01  8.74619707e-01\n",
      "  8.74619707e-01  8.74619707e-01  8.66025404e-01  8.66025404e-01\n",
      "  8.48048096e-01  8.38670568e-01  8.38670568e-01  8.19152044e-01\n",
      "  8.09016994e-01  7.98635510e-01  7.88010754e-01  7.88010754e-01\n",
      "  7.88010754e-01  7.88010754e-01  7.88010754e-01  7.77145961e-01\n",
      "  7.77145961e-01  7.77145961e-01  7.77145961e-01  7.66044443e-01\n",
      "  7.66044443e-01  7.66044443e-01  7.66044443e-01  7.54709580e-01\n",
      "  7.54709580e-01  7.54709580e-01  7.54709580e-01  7.54709580e-01\n",
      "  7.54709580e-01  7.43144825e-01  7.31353702e-01  7.31353702e-01\n",
      "  7.31353702e-01  7.19339800e-01  7.19339800e-01  7.19339800e-01\n",
      "  7.19339800e-01  6.94658370e-01  6.94658370e-01  6.94658370e-01\n",
      "  6.94658370e-01  6.81998360e-01  6.81998360e-01  6.81998360e-01\n",
      "  6.81998360e-01  6.81998360e-01  6.69130606e-01  6.69130606e-01\n",
      "  6.56059029e-01  6.56059029e-01  6.42787610e-01  6.29320391e-01\n",
      "  6.29320391e-01  6.29320391e-01  6.29320391e-01  6.15661475e-01\n",
      "  6.15661475e-01  6.01815023e-01  6.01815023e-01  6.01815023e-01\n",
      "  6.01815023e-01  5.87785252e-01  5.87785252e-01  5.87785252e-01\n",
      "  5.73576436e-01  5.73576436e-01  5.73576436e-01  5.73576436e-01\n",
      "  5.59192903e-01  5.59192903e-01  5.59192903e-01  5.29919264e-01\n",
      "  5.15038075e-01  5.00000000e-01  5.00000000e-01  4.84809620e-01\n",
      "  4.84809620e-01  4.69471563e-01  4.69471563e-01  4.69471563e-01\n",
      "  4.69471563e-01  4.69471563e-01  4.53990500e-01  4.53990500e-01\n",
      "  4.53990500e-01  4.53990500e-01  4.38371147e-01  4.22618262e-01\n",
      "  4.22618262e-01  4.22618262e-01  4.22618262e-01  4.06736643e-01\n",
      "  3.90731128e-01  3.90731128e-01  3.74606593e-01  3.74606593e-01\n",
      "  3.74606593e-01  3.74606593e-01  3.74606593e-01  3.58367950e-01\n",
      "  3.42020143e-01  3.42020143e-01  3.25568154e-01  3.25568154e-01\n",
      "  3.25568154e-01  3.09016994e-01  3.09016994e-01  2.92371705e-01\n",
      "  2.75637356e-01  2.58819045e-01  2.58819045e-01  2.58819045e-01\n",
      "  2.41921896e-01  2.41921896e-01  2.07911691e-01  2.07911691e-01\n",
      "  1.90808995e-01  1.90808995e-01  1.90808995e-01  1.73648178e-01\n",
      "  1.73648178e-01  1.56434465e-01  1.56434465e-01  1.56434465e-01\n",
      "  1.56434465e-01  1.39173101e-01  1.39173101e-01  1.39173101e-01\n",
      "  1.39173101e-01  1.21869343e-01  1.21869343e-01  1.21869343e-01\n",
      "  1.21869343e-01  1.21869343e-01  1.04528463e-01  1.04528463e-01\n",
      "  8.71557427e-02  8.71557427e-02  8.71557427e-02  8.71557427e-02\n",
      "  6.97564737e-02  6.97564737e-02  6.97564737e-02  6.97564737e-02\n",
      "  6.97564737e-02  6.97564737e-02  5.23359562e-02  5.23359562e-02\n",
      "  5.23359562e-02  5.23359562e-02  3.48994967e-02  1.74524064e-02\n",
      "  1.74524064e-02  6.12323400e-17  6.12323400e-17  6.12323400e-17\n",
      " -1.74524064e-02 -5.23359562e-02 -6.97564737e-02 -6.97564737e-02\n",
      " -6.97564737e-02 -8.71557427e-02 -8.71557427e-02 -8.71557427e-02\n",
      " -1.04528463e-01 -1.04528463e-01 -1.04528463e-01 -1.21869343e-01\n",
      " -1.21869343e-01 -1.39173101e-01 -1.39173101e-01 -1.56434465e-01\n",
      " -1.56434465e-01 -1.56434465e-01 -1.73648178e-01 -1.73648178e-01\n",
      " -1.73648178e-01 -1.73648178e-01 -1.73648178e-01 -1.73648178e-01\n",
      " -1.90808995e-01 -1.90808995e-01 -1.90808995e-01 -2.07911691e-01\n",
      " -2.24951054e-01 -2.24951054e-01 -2.41921896e-01 -2.41921896e-01\n",
      " -2.41921896e-01 -2.58819045e-01 -2.58819045e-01 -2.75637356e-01\n",
      " -2.92371705e-01 -2.92371705e-01 -2.92371705e-01 -3.09016994e-01\n",
      " -3.09016994e-01 -3.09016994e-01 -3.25568154e-01 -3.25568154e-01\n",
      " -3.25568154e-01 -3.42020143e-01 -3.58367950e-01 -3.58367950e-01\n",
      " -3.74606593e-01 -3.74606593e-01 -3.74606593e-01 -3.74606593e-01\n",
      " -3.90731128e-01 -3.90731128e-01 -3.90731128e-01 -3.90731128e-01\n",
      " -4.06736643e-01 -4.06736643e-01 -4.06736643e-01 -4.06736643e-01\n",
      " -4.22618262e-01 -4.22618262e-01 -4.22618262e-01 -4.22618262e-01\n",
      " -4.38371147e-01 -4.38371147e-01 -4.38371147e-01 -4.38371147e-01\n",
      " -4.38371147e-01 -4.53990500e-01 -4.53990500e-01 -4.53990500e-01\n",
      " -4.53990500e-01 -4.69471563e-01 -4.69471563e-01 -4.69471563e-01\n",
      " -4.84809620e-01 -4.84809620e-01 -4.84809620e-01 -5.00000000e-01\n",
      " -5.00000000e-01 -5.00000000e-01 -5.15038075e-01 -5.15038075e-01\n",
      " -5.15038075e-01 -5.15038075e-01 -5.29919264e-01 -5.29919264e-01\n",
      " -5.44639035e-01 -5.44639035e-01 -5.59192903e-01 -5.59192903e-01\n",
      " -5.59192903e-01 -5.59192903e-01 -5.59192903e-01 -5.73576436e-01\n",
      " -5.73576436e-01 -5.87785252e-01 -5.87785252e-01 -5.87785252e-01\n",
      " -6.01815023e-01 -6.01815023e-01 -6.01815023e-01 -6.01815023e-01\n",
      " -6.15661475e-01 -6.15661475e-01 -6.15661475e-01 -6.15661475e-01\n",
      " -6.15661475e-01 -6.29320391e-01 -6.29320391e-01 -6.29320391e-01\n",
      " -6.42787610e-01 -6.42787610e-01 -6.42787610e-01 -6.42787610e-01\n",
      " -6.56059029e-01 -6.56059029e-01 -6.56059029e-01 -6.69130606e-01\n",
      " -6.81998360e-01 -6.81998360e-01 -6.94658370e-01 -6.94658370e-01\n",
      " -6.94658370e-01 -6.94658370e-01 -6.94658370e-01 -6.94658370e-01\n",
      " -6.94658370e-01 -6.94658370e-01 -7.07106781e-01 -7.07106781e-01\n",
      " -7.31353702e-01 -7.31353702e-01 -7.31353702e-01 -7.43144825e-01\n",
      " -7.43144825e-01 -7.54709580e-01 -7.54709580e-01 -7.54709580e-01\n",
      " -7.66044443e-01 -7.66044443e-01 -7.77145961e-01 -7.77145961e-01\n",
      " -7.77145961e-01 -7.88010754e-01 -7.88010754e-01 -7.88010754e-01\n",
      " -7.88010754e-01 -7.98635510e-01 -7.98635510e-01 -7.98635510e-01\n",
      " -8.09016994e-01 -8.09016994e-01 -8.09016994e-01 -8.09016994e-01\n",
      " -8.09016994e-01 -8.09016994e-01 -8.19152044e-01 -8.19152044e-01\n",
      " -8.29037573e-01 -8.29037573e-01 -8.38670568e-01 -8.38670568e-01\n",
      " -8.48048096e-01 -8.48048096e-01 -8.57167301e-01 -8.57167301e-01\n",
      " -8.57167301e-01 -8.57167301e-01 -8.66025404e-01 -8.66025404e-01\n",
      " -8.66025404e-01 -8.66025404e-01 -8.74619707e-01 -8.74619707e-01\n",
      " -8.82947593e-01 -8.82947593e-01 -8.82947593e-01 -8.91006524e-01\n",
      " -8.91006524e-01 -8.98794046e-01 -8.98794046e-01 -9.06307787e-01\n",
      " -9.06307787e-01 -9.13545458e-01 -9.13545458e-01 -9.13545458e-01\n",
      " -9.13545458e-01 -9.20504853e-01 -9.20504853e-01 -9.20504853e-01\n",
      " -9.27183855e-01 -9.27183855e-01 -9.27183855e-01 -9.33580426e-01\n",
      " -9.33580426e-01 -9.33580426e-01 -9.33580426e-01 -9.33580426e-01\n",
      " -9.33580426e-01 -9.33580426e-01 -9.39692621e-01 -9.39692621e-01\n",
      " -9.39692621e-01 -9.39692621e-01 -9.39692621e-01 -9.39692621e-01\n",
      " -9.45518576e-01 -9.45518576e-01 -9.51056516e-01 -9.51056516e-01\n",
      " -9.51056516e-01 -9.51056516e-01 -9.56304756e-01 -9.56304756e-01\n",
      " -9.56304756e-01 -9.61261696e-01 -9.65925826e-01 -9.65925826e-01\n",
      " -9.65925826e-01 -9.65925826e-01 -9.65925826e-01 -9.70295726e-01\n",
      " -9.70295726e-01 -9.74370065e-01 -9.74370065e-01 -9.74370065e-01\n",
      " -9.74370065e-01 -9.74370065e-01 -9.78147601e-01 -9.78147601e-01\n",
      " -9.78147601e-01 -9.78147601e-01 -9.78147601e-01 -9.81627183e-01\n",
      " -9.87688341e-01 -9.87688341e-01 -9.87688341e-01 -9.90268069e-01\n",
      " -9.90268069e-01 -9.90268069e-01 -9.92546152e-01 -9.92546152e-01\n",
      " -9.92546152e-01 -9.94521895e-01 -9.94521895e-01 -9.96194698e-01\n",
      " -9.97564050e-01 -9.97564050e-01 -9.97564050e-01 -9.98629535e-01\n",
      " -9.98629535e-01 -9.98629535e-01 -9.98629535e-01 -9.99390827e-01\n",
      " -9.99390827e-01 -9.99847695e-01 -9.99847695e-01 -9.99847695e-01\n",
      " -9.99847695e-01 -9.99847695e-01 -9.99847695e-01 -9.99847695e-01\n",
      " -9.99847695e-01 -1.00000000e+00 -1.00000000e+00 -1.00000000e+00\n",
      " -9.99847695e-01 -9.99390827e-01 -9.99390827e-01 -9.99390827e-01\n",
      " -9.99390827e-01 -9.98629535e-01 -9.98629535e-01 -9.98629535e-01\n",
      " -9.98629535e-01 -9.98629535e-01 -9.97564050e-01 -9.97564050e-01\n",
      " -9.97564050e-01 -9.97564050e-01 -9.96194698e-01 -9.96194698e-01\n",
      " -9.96194698e-01 -9.94521895e-01 -9.94521895e-01 -9.94521895e-01\n",
      " -9.94521895e-01 -9.92546152e-01 -9.92546152e-01 -9.92546152e-01\n",
      " -9.90268069e-01 -9.90268069e-01 -9.90268069e-01 -9.87688341e-01\n",
      " -9.87688341e-01 -9.84807753e-01 -9.84807753e-01 -9.84807753e-01\n",
      " -9.84807753e-01 -9.84807753e-01 -9.84807753e-01 -9.84807753e-01\n",
      " -9.81627183e-01 -9.81627183e-01 -9.74370065e-01 -9.74370065e-01\n",
      " -9.74370065e-01 -9.74370065e-01 -9.70295726e-01 -9.70295726e-01\n",
      " -9.65925826e-01 -9.61261696e-01 -9.61261696e-01 -9.56304756e-01\n",
      " -9.56304756e-01 -9.45518576e-01 -9.39692621e-01 -9.39692621e-01\n",
      " -9.33580426e-01 -9.33580426e-01 -9.33580426e-01 -9.27183855e-01\n",
      " -9.20504853e-01 -9.20504853e-01 -9.13545458e-01 -9.13545458e-01\n",
      " -9.06307787e-01 -9.06307787e-01 -9.06307787e-01 -8.98794046e-01\n",
      " -8.98794046e-01 -8.98794046e-01 -8.98794046e-01 -8.98794046e-01\n",
      " -8.98794046e-01 -8.98794046e-01 -8.91006524e-01 -8.82947593e-01\n",
      " -8.82947593e-01 -8.82947593e-01 -8.74619707e-01 -8.74619707e-01\n",
      " -8.74619707e-01 -8.74619707e-01 -8.66025404e-01 -8.66025404e-01\n",
      " -8.66025404e-01 -8.66025404e-01 -8.66025404e-01 -8.57167301e-01\n",
      " -8.48048096e-01 -8.48048096e-01 -8.48048096e-01 -8.48048096e-01\n",
      " -8.38670568e-01 -8.38670568e-01 -8.38670568e-01 -8.38670568e-01\n",
      " -8.29037573e-01 -8.29037573e-01 -8.19152044e-01 -8.19152044e-01\n",
      " -8.19152044e-01 -8.09016994e-01 -8.09016994e-01 -7.98635510e-01\n",
      " -7.88010754e-01 -7.88010754e-01 -7.77145961e-01 -7.66044443e-01\n",
      " -7.66044443e-01 -7.54709580e-01 -7.54709580e-01 -7.43144825e-01\n",
      " -7.43144825e-01 -7.43144825e-01 -7.31353702e-01 -7.31353702e-01\n",
      " -7.19339800e-01 -7.19339800e-01 -7.19339800e-01 -7.19339800e-01\n",
      " -7.19339800e-01 -7.07106781e-01 -7.07106781e-01 -6.94658370e-01\n",
      " -6.94658370e-01 -6.94658370e-01 -6.81998360e-01 -6.81998360e-01\n",
      " -6.81998360e-01 -6.69130606e-01 -6.69130606e-01 -6.56059029e-01\n",
      " -6.56059029e-01 -6.42787610e-01 -6.42787610e-01 -6.42787610e-01\n",
      " -6.29320391e-01 -6.29320391e-01 -6.15661475e-01 -6.01815023e-01\n",
      " -6.01815023e-01 -6.01815023e-01 -5.87785252e-01 -5.87785252e-01\n",
      " -5.87785252e-01 -5.73576436e-01 -5.73576436e-01 -5.73576436e-01\n",
      " -5.59192903e-01 -5.44639035e-01 -5.29919264e-01 -5.15038075e-01\n",
      " -5.15038075e-01 -5.00000000e-01 -5.00000000e-01 -4.84809620e-01\n",
      " -4.84809620e-01 -4.84809620e-01 -4.69471563e-01 -4.69471563e-01\n",
      " -4.53990500e-01 -4.53990500e-01 -4.38371147e-01 -4.38371147e-01\n",
      " -4.22618262e-01 -4.22618262e-01 -4.22618262e-01 -4.22618262e-01\n",
      " -4.06736643e-01 -4.06736643e-01 -4.06736643e-01 -4.06736643e-01\n",
      " -4.06736643e-01 -3.90731128e-01 -3.90731128e-01 -3.90731128e-01\n",
      " -3.90731128e-01 -3.74606593e-01 -3.74606593e-01 -3.58367950e-01\n",
      " -3.58367950e-01 -3.58367950e-01 -3.42020143e-01 -3.42020143e-01\n",
      " -3.42020143e-01 -3.42020143e-01 -3.42020143e-01 -3.25568154e-01\n",
      " -3.25568154e-01 -3.09016994e-01 -3.09016994e-01 -3.09016994e-01\n",
      " -2.92371705e-01 -2.75637356e-01 -2.75637356e-01 -2.75637356e-01\n",
      " -2.75637356e-01 -2.75637356e-01 -2.58819045e-01 -2.41921896e-01\n",
      " -2.41921896e-01 -2.41921896e-01 -2.41921896e-01 -2.24951054e-01\n",
      " -2.24951054e-01 -2.07911691e-01 -1.90808995e-01 -1.90808995e-01\n",
      " -1.73648178e-01 -1.73648178e-01 -1.73648178e-01 -1.73648178e-01\n",
      " -1.73648178e-01 -1.56434465e-01 -1.56434465e-01 -1.21869343e-01\n",
      " -1.04528463e-01 -1.04528463e-01 -1.04528463e-01 -1.04528463e-01\n",
      " -8.71557427e-02 -8.71557427e-02 -8.71557427e-02 -6.97564737e-02\n",
      " -6.97564737e-02 -6.97564737e-02 -5.23359562e-02 -5.23359562e-02\n",
      " -5.23359562e-02 -3.48994967e-02 -3.48994967e-02 -1.74524064e-02\n",
      " -1.74524064e-02 -1.74524064e-02 -1.74524064e-02 -1.74524064e-02\n",
      " -1.83697020e-16 -1.83697020e-16 -1.83697020e-16  1.74524064e-02\n",
      "  1.74524064e-02  1.74524064e-02  3.48994967e-02  3.48994967e-02\n",
      "  5.23359562e-02  6.97564737e-02  8.71557427e-02  8.71557427e-02\n",
      "  1.04528463e-01  1.04528463e-01  1.04528463e-01  1.21869343e-01\n",
      "  1.21869343e-01  1.21869343e-01  1.39173101e-01  1.56434465e-01\n",
      "  1.56434465e-01  1.56434465e-01  1.56434465e-01  1.56434465e-01\n",
      "  1.56434465e-01  1.73648178e-01  1.73648178e-01  1.73648178e-01\n",
      "  1.73648178e-01  1.90808995e-01  1.90808995e-01  1.90808995e-01\n",
      "  1.90808995e-01  1.90808995e-01  2.07911691e-01  2.24951054e-01\n",
      "  2.24951054e-01  2.24951054e-01  2.41921896e-01  2.41921896e-01\n",
      "  2.41921896e-01  2.58819045e-01  2.58819045e-01  2.58819045e-01\n",
      "  2.75637356e-01  2.75637356e-01  2.92371705e-01  2.92371705e-01\n",
      "  2.92371705e-01  3.09016994e-01  3.09016994e-01  3.09016994e-01\n",
      "  3.42020143e-01  3.42020143e-01  3.42020143e-01  3.42020143e-01\n",
      "  3.58367950e-01  3.58367950e-01  3.90731128e-01  4.06736643e-01\n",
      "  4.06736643e-01  4.06736643e-01  4.06736643e-01  4.22618262e-01\n",
      "  4.22618262e-01  4.22618262e-01  4.22618262e-01  4.38371147e-01\n",
      "  4.38371147e-01  4.38371147e-01  4.53990500e-01  4.53990500e-01\n",
      "  4.53990500e-01  4.53990500e-01  4.69471563e-01  4.84809620e-01\n",
      "  4.84809620e-01  4.84809620e-01  4.84809620e-01  4.84809620e-01\n",
      "  5.00000000e-01  5.00000000e-01  5.00000000e-01  5.15038075e-01\n",
      "  5.15038075e-01  5.15038075e-01  5.15038075e-01  5.29919264e-01\n",
      "  5.29919264e-01  5.29919264e-01  5.29919264e-01  5.29919264e-01\n",
      "  5.29919264e-01  5.44639035e-01  5.44639035e-01  5.44639035e-01\n",
      "  5.44639035e-01  5.44639035e-01  5.44639035e-01  5.44639035e-01\n",
      "  5.59192903e-01  5.59192903e-01  5.59192903e-01  5.73576436e-01\n",
      "  5.87785252e-01  5.87785252e-01  5.87785252e-01  5.87785252e-01\n",
      "  6.01815023e-01  6.15661475e-01  6.15661475e-01  6.15661475e-01\n",
      "  6.15661475e-01  6.15661475e-01  6.29320391e-01  6.42787610e-01\n",
      "  6.42787610e-01  6.56059029e-01  6.56059029e-01  6.69130606e-01\n",
      "  6.69130606e-01  6.69130606e-01  6.81998360e-01  6.81998360e-01\n",
      "  6.81998360e-01  6.94658370e-01  6.94658370e-01  6.94658370e-01\n",
      "  7.07106781e-01  7.07106781e-01  7.07106781e-01  7.19339800e-01\n",
      "  7.19339800e-01  7.19339800e-01  7.31353702e-01  7.43144825e-01\n",
      "  7.43144825e-01  7.54709580e-01  7.77145961e-01  7.77145961e-01\n",
      "  7.77145961e-01  7.77145961e-01  7.77145961e-01  7.77145961e-01\n",
      "  7.88010754e-01  7.88010754e-01  7.88010754e-01  7.98635510e-01\n",
      "  7.98635510e-01  8.09016994e-01  8.09016994e-01  8.09016994e-01\n",
      "  8.09016994e-01  8.19152044e-01  8.19152044e-01  8.19152044e-01\n",
      "  8.19152044e-01  8.29037573e-01  8.29037573e-01  8.29037573e-01\n",
      "  8.29037573e-01  8.38670568e-01  8.38670568e-01  8.38670568e-01\n",
      "  8.38670568e-01  8.48048096e-01  8.48048096e-01  8.48048096e-01\n",
      "  8.48048096e-01  8.57167301e-01  8.57167301e-01  8.66025404e-01\n",
      "  8.66025404e-01  8.66025404e-01  8.66025404e-01  8.66025404e-01\n",
      "  8.66025404e-01  8.74619707e-01  8.74619707e-01  8.82947593e-01\n",
      "  8.82947593e-01  8.91006524e-01  8.91006524e-01  8.91006524e-01\n",
      "  8.91006524e-01  8.91006524e-01  8.91006524e-01  8.98794046e-01\n",
      "  8.98794046e-01  9.06307787e-01  9.06307787e-01  9.06307787e-01\n",
      "  9.06307787e-01  9.06307787e-01  9.06307787e-01  9.13545458e-01\n",
      "  9.20504853e-01  9.20504853e-01  9.27183855e-01  9.27183855e-01\n",
      "  9.27183855e-01  9.33580426e-01  9.33580426e-01  9.39692621e-01\n",
      "  9.39692621e-01  9.45518576e-01  9.45518576e-01  9.56304756e-01\n",
      "  9.56304756e-01  9.56304756e-01  9.61261696e-01  9.61261696e-01\n",
      "  9.61261696e-01  9.61261696e-01  9.65925826e-01  9.65925826e-01\n",
      "  9.70295726e-01  9.70295726e-01  9.70295726e-01  9.74370065e-01\n",
      "  9.74370065e-01  9.74370065e-01  9.78147601e-01  9.81627183e-01\n",
      "  9.81627183e-01  9.81627183e-01  9.84807753e-01  9.84807753e-01\n",
      "  9.84807753e-01  9.84807753e-01  9.87688341e-01  9.92546152e-01\n",
      "  9.92546152e-01  9.92546152e-01  9.92546152e-01  9.92546152e-01\n",
      "  9.92546152e-01  9.94521895e-01  9.94521895e-01  9.96194698e-01\n",
      "  9.96194698e-01  9.96194698e-01  9.97564050e-01  9.97564050e-01\n",
      "  9.97564050e-01  9.97564050e-01  9.97564050e-01  9.98629535e-01\n",
      "  9.99390827e-01  9.99847695e-01  9.99847695e-01  9.99847695e-01] [ 0.00000000e+00  1.74550649e-02  1.74550649e-02  5.24077793e-02\n",
      "  6.99268119e-02  6.99268119e-02  6.99268119e-02  6.99268119e-02\n",
      "  6.99268119e-02  6.99268119e-02  8.74886635e-02  8.74886635e-02\n",
      "  1.05104235e-01  1.05104235e-01  1.22784561e-01  1.22784561e-01\n",
      "  1.40540835e-01  1.40540835e-01  1.40540835e-01  1.58384440e-01\n",
      "  1.76326981e-01  1.76326981e-01  1.76326981e-01  1.76326981e-01\n",
      "  1.94380309e-01  1.94380309e-01  2.12556562e-01  2.12556562e-01\n",
      "  2.30868191e-01  2.30868191e-01  2.30868191e-01  2.30868191e-01\n",
      "  2.49328003e-01  2.49328003e-01  2.49328003e-01  2.49328003e-01\n",
      "  2.49328003e-01  2.49328003e-01  2.67949192e-01  2.67949192e-01\n",
      "  2.67949192e-01  2.67949192e-01  2.67949192e-01  2.67949192e-01\n",
      "  2.86745386e-01  2.86745386e-01  2.86745386e-01  3.05730681e-01\n",
      "  3.05730681e-01  3.05730681e-01  3.05730681e-01  3.24919696e-01\n",
      "  3.24919696e-01  3.24919696e-01  3.24919696e-01  3.24919696e-01\n",
      "  3.24919696e-01  3.44327613e-01  3.44327613e-01  3.63970234e-01\n",
      "  3.63970234e-01  3.63970234e-01  3.63970234e-01  3.63970234e-01\n",
      "  3.63970234e-01  3.63970234e-01  3.63970234e-01  3.63970234e-01\n",
      "  3.83864035e-01  3.83864035e-01  3.83864035e-01  4.04026226e-01\n",
      "  4.04026226e-01  4.04026226e-01  4.45228685e-01  4.45228685e-01\n",
      "  4.45228685e-01  4.66307658e-01  4.66307658e-01  4.87732589e-01\n",
      "  4.87732589e-01  4.87732589e-01  4.87732589e-01  4.87732589e-01\n",
      "  5.09525449e-01  5.09525449e-01  5.09525449e-01  5.09525449e-01\n",
      "  5.09525449e-01  5.09525449e-01  5.09525449e-01  5.54309051e-01\n",
      "  5.54309051e-01  5.54309051e-01  5.77350269e-01  5.77350269e-01\n",
      "  6.24869352e-01  6.49407593e-01  6.49407593e-01  7.00207538e-01\n",
      "  7.26542528e-01  7.53554050e-01  7.81285627e-01  7.81285627e-01\n",
      "  7.81285627e-01  7.81285627e-01  7.81285627e-01  8.09784033e-01\n",
      "  8.09784033e-01  8.09784033e-01  8.09784033e-01  8.39099631e-01\n",
      "  8.39099631e-01  8.39099631e-01  8.39099631e-01  8.69286738e-01\n",
      "  8.69286738e-01  8.69286738e-01  8.69286738e-01  8.69286738e-01\n",
      "  8.69286738e-01  9.00404044e-01  9.32515086e-01  9.32515086e-01\n",
      "  9.32515086e-01  9.65688775e-01  9.65688775e-01  9.65688775e-01\n",
      "  9.65688775e-01  1.03553031e+00  1.03553031e+00  1.03553031e+00\n",
      "  1.03553031e+00  1.07236871e+00  1.07236871e+00  1.07236871e+00\n",
      "  1.07236871e+00  1.07236871e+00  1.11061251e+00  1.11061251e+00\n",
      "  1.15036841e+00  1.15036841e+00  1.19175359e+00  1.23489716e+00\n",
      "  1.23489716e+00  1.23489716e+00  1.23489716e+00  1.27994163e+00\n",
      "  1.27994163e+00  1.32704482e+00  1.32704482e+00  1.32704482e+00\n",
      "  1.32704482e+00  1.37638192e+00  1.37638192e+00  1.37638192e+00\n",
      "  1.42814801e+00  1.42814801e+00  1.42814801e+00  1.42814801e+00\n",
      "  1.48256097e+00  1.48256097e+00  1.48256097e+00  1.60033453e+00\n",
      "  1.66427948e+00  1.73205081e+00  1.73205081e+00  1.80404776e+00\n",
      "  1.80404776e+00  1.88072647e+00  1.88072647e+00  1.88072647e+00\n",
      "  1.88072647e+00  1.88072647e+00  1.96261051e+00  1.96261051e+00\n",
      "  1.96261051e+00  1.96261051e+00  2.05030384e+00  2.14450692e+00\n",
      "  2.14450692e+00  2.14450692e+00  2.14450692e+00  2.24603677e+00\n",
      "  2.35585237e+00  2.35585237e+00  2.47508685e+00  2.47508685e+00\n",
      "  2.47508685e+00  2.47508685e+00  2.47508685e+00  2.60508906e+00\n",
      "  2.74747742e+00  2.74747742e+00  2.90421088e+00  2.90421088e+00\n",
      "  2.90421088e+00  3.07768354e+00  3.07768354e+00  3.27085262e+00\n",
      "  3.48741444e+00  3.73205081e+00  3.73205081e+00  3.73205081e+00\n",
      "  4.01078093e+00  4.01078093e+00  4.70463011e+00  4.70463011e+00\n",
      "  5.14455402e+00  5.14455402e+00  5.14455402e+00  5.67128182e+00\n",
      "  5.67128182e+00  6.31375151e+00  6.31375151e+00  6.31375151e+00\n",
      "  6.31375151e+00  7.11536972e+00  7.11536972e+00  7.11536972e+00\n",
      "  7.11536972e+00  8.14434643e+00  8.14434643e+00  8.14434643e+00\n",
      "  8.14434643e+00  8.14434643e+00  9.51436445e+00  9.51436445e+00\n",
      "  1.14300523e+01  1.14300523e+01  1.14300523e+01  1.14300523e+01\n",
      "  1.43006663e+01  1.43006663e+01  1.43006663e+01  1.43006663e+01\n",
      "  1.43006663e+01  1.43006663e+01  1.90811367e+01  1.90811367e+01\n",
      "  1.90811367e+01  1.90811367e+01  2.86362533e+01  5.72899616e+01\n",
      "  5.72899616e+01  1.63312394e+16  1.63312394e+16  1.63312394e+16\n",
      " -5.72899616e+01 -1.90811367e+01 -1.43006663e+01 -1.43006663e+01\n",
      " -1.43006663e+01 -1.14300523e+01 -1.14300523e+01 -1.14300523e+01\n",
      " -9.51436445e+00 -9.51436445e+00 -9.51436445e+00 -8.14434643e+00\n",
      " -8.14434643e+00 -7.11536972e+00 -7.11536972e+00 -6.31375151e+00\n",
      " -6.31375151e+00 -6.31375151e+00 -5.67128182e+00 -5.67128182e+00\n",
      " -5.67128182e+00 -5.67128182e+00 -5.67128182e+00 -5.67128182e+00\n",
      " -5.14455402e+00 -5.14455402e+00 -5.14455402e+00 -4.70463011e+00\n",
      " -4.33147587e+00 -4.33147587e+00 -4.01078093e+00 -4.01078093e+00\n",
      " -4.01078093e+00 -3.73205081e+00 -3.73205081e+00 -3.48741444e+00\n",
      " -3.27085262e+00 -3.27085262e+00 -3.27085262e+00 -3.07768354e+00\n",
      " -3.07768354e+00 -3.07768354e+00 -2.90421088e+00 -2.90421088e+00\n",
      " -2.90421088e+00 -2.74747742e+00 -2.60508906e+00 -2.60508906e+00\n",
      " -2.47508685e+00 -2.47508685e+00 -2.47508685e+00 -2.47508685e+00\n",
      " -2.35585237e+00 -2.35585237e+00 -2.35585237e+00 -2.35585237e+00\n",
      " -2.24603677e+00 -2.24603677e+00 -2.24603677e+00 -2.24603677e+00\n",
      " -2.14450692e+00 -2.14450692e+00 -2.14450692e+00 -2.14450692e+00\n",
      " -2.05030384e+00 -2.05030384e+00 -2.05030384e+00 -2.05030384e+00\n",
      " -2.05030384e+00 -1.96261051e+00 -1.96261051e+00 -1.96261051e+00\n",
      " -1.96261051e+00 -1.88072647e+00 -1.88072647e+00 -1.88072647e+00\n",
      " -1.80404776e+00 -1.80404776e+00 -1.80404776e+00 -1.73205081e+00\n",
      " -1.73205081e+00 -1.73205081e+00 -1.66427948e+00 -1.66427948e+00\n",
      " -1.66427948e+00 -1.66427948e+00 -1.60033453e+00 -1.60033453e+00\n",
      " -1.53986496e+00 -1.53986496e+00 -1.48256097e+00 -1.48256097e+00\n",
      " -1.48256097e+00 -1.48256097e+00 -1.48256097e+00 -1.42814801e+00\n",
      " -1.42814801e+00 -1.37638192e+00 -1.37638192e+00 -1.37638192e+00\n",
      " -1.32704482e+00 -1.32704482e+00 -1.32704482e+00 -1.32704482e+00\n",
      " -1.27994163e+00 -1.27994163e+00 -1.27994163e+00 -1.27994163e+00\n",
      " -1.27994163e+00 -1.23489716e+00 -1.23489716e+00 -1.23489716e+00\n",
      " -1.19175359e+00 -1.19175359e+00 -1.19175359e+00 -1.19175359e+00\n",
      " -1.15036841e+00 -1.15036841e+00 -1.15036841e+00 -1.11061251e+00\n",
      " -1.07236871e+00 -1.07236871e+00 -1.03553031e+00 -1.03553031e+00\n",
      " -1.03553031e+00 -1.03553031e+00 -1.03553031e+00 -1.03553031e+00\n",
      " -1.03553031e+00 -1.03553031e+00 -1.00000000e+00 -1.00000000e+00\n",
      " -9.32515086e-01 -9.32515086e-01 -9.32515086e-01 -9.00404044e-01\n",
      " -9.00404044e-01 -8.69286738e-01 -8.69286738e-01 -8.69286738e-01\n",
      " -8.39099631e-01 -8.39099631e-01 -8.09784033e-01 -8.09784033e-01\n",
      " -8.09784033e-01 -7.81285627e-01 -7.81285627e-01 -7.81285627e-01\n",
      " -7.81285627e-01 -7.53554050e-01 -7.53554050e-01 -7.53554050e-01\n",
      " -7.26542528e-01 -7.26542528e-01 -7.26542528e-01 -7.26542528e-01\n",
      " -7.26542528e-01 -7.26542528e-01 -7.00207538e-01 -7.00207538e-01\n",
      " -6.74508517e-01 -6.74508517e-01 -6.49407593e-01 -6.49407593e-01\n",
      " -6.24869352e-01 -6.24869352e-01 -6.00860619e-01 -6.00860619e-01\n",
      " -6.00860619e-01 -6.00860619e-01 -5.77350269e-01 -5.77350269e-01\n",
      " -5.77350269e-01 -5.77350269e-01 -5.54309051e-01 -5.54309051e-01\n",
      " -5.31709432e-01 -5.31709432e-01 -5.31709432e-01 -5.09525449e-01\n",
      " -5.09525449e-01 -4.87732589e-01 -4.87732589e-01 -4.66307658e-01\n",
      " -4.66307658e-01 -4.45228685e-01 -4.45228685e-01 -4.45228685e-01\n",
      " -4.45228685e-01 -4.24474816e-01 -4.24474816e-01 -4.24474816e-01\n",
      " -4.04026226e-01 -4.04026226e-01 -4.04026226e-01 -3.83864035e-01\n",
      " -3.83864035e-01 -3.83864035e-01 -3.83864035e-01 -3.83864035e-01\n",
      " -3.83864035e-01 -3.83864035e-01 -3.63970234e-01 -3.63970234e-01\n",
      " -3.63970234e-01 -3.63970234e-01 -3.63970234e-01 -3.63970234e-01\n",
      " -3.44327613e-01 -3.44327613e-01 -3.24919696e-01 -3.24919696e-01\n",
      " -3.24919696e-01 -3.24919696e-01 -3.05730681e-01 -3.05730681e-01\n",
      " -3.05730681e-01 -2.86745386e-01 -2.67949192e-01 -2.67949192e-01\n",
      " -2.67949192e-01 -2.67949192e-01 -2.67949192e-01 -2.49328003e-01\n",
      " -2.49328003e-01 -2.30868191e-01 -2.30868191e-01 -2.30868191e-01\n",
      " -2.30868191e-01 -2.30868191e-01 -2.12556562e-01 -2.12556562e-01\n",
      " -2.12556562e-01 -2.12556562e-01 -2.12556562e-01 -1.94380309e-01\n",
      " -1.58384440e-01 -1.58384440e-01 -1.58384440e-01 -1.40540835e-01\n",
      " -1.40540835e-01 -1.40540835e-01 -1.22784561e-01 -1.22784561e-01\n",
      " -1.22784561e-01 -1.05104235e-01 -1.05104235e-01 -8.74886635e-02\n",
      " -6.99268119e-02 -6.99268119e-02 -6.99268119e-02 -5.24077793e-02\n",
      " -5.24077793e-02 -5.24077793e-02 -5.24077793e-02 -3.49207695e-02\n",
      " -3.49207695e-02 -1.74550649e-02 -1.74550649e-02 -1.74550649e-02\n",
      " -1.74550649e-02 -1.74550649e-02 -1.74550649e-02 -1.74550649e-02\n",
      " -1.74550649e-02 -1.22464680e-16 -1.22464680e-16 -1.22464680e-16\n",
      "  1.74550649e-02  3.49207695e-02  3.49207695e-02  3.49207695e-02\n",
      "  3.49207695e-02  5.24077793e-02  5.24077793e-02  5.24077793e-02\n",
      "  5.24077793e-02  5.24077793e-02  6.99268119e-02  6.99268119e-02\n",
      "  6.99268119e-02  6.99268119e-02  8.74886635e-02  8.74886635e-02\n",
      "  8.74886635e-02  1.05104235e-01  1.05104235e-01  1.05104235e-01\n",
      "  1.05104235e-01  1.22784561e-01  1.22784561e-01  1.22784561e-01\n",
      "  1.40540835e-01  1.40540835e-01  1.40540835e-01  1.58384440e-01\n",
      "  1.58384440e-01  1.76326981e-01  1.76326981e-01  1.76326981e-01\n",
      "  1.76326981e-01  1.76326981e-01  1.76326981e-01  1.76326981e-01\n",
      "  1.94380309e-01  1.94380309e-01  2.30868191e-01  2.30868191e-01\n",
      "  2.30868191e-01  2.30868191e-01  2.49328003e-01  2.49328003e-01\n",
      "  2.67949192e-01  2.86745386e-01  2.86745386e-01  3.05730681e-01\n",
      "  3.05730681e-01  3.44327613e-01  3.63970234e-01  3.63970234e-01\n",
      "  3.83864035e-01  3.83864035e-01  3.83864035e-01  4.04026226e-01\n",
      "  4.24474816e-01  4.24474816e-01  4.45228685e-01  4.45228685e-01\n",
      "  4.66307658e-01  4.66307658e-01  4.66307658e-01  4.87732589e-01\n",
      "  4.87732589e-01  4.87732589e-01  4.87732589e-01  4.87732589e-01\n",
      "  4.87732589e-01  4.87732589e-01  5.09525449e-01  5.31709432e-01\n",
      "  5.31709432e-01  5.31709432e-01  5.54309051e-01  5.54309051e-01\n",
      "  5.54309051e-01  5.54309051e-01  5.77350269e-01  5.77350269e-01\n",
      "  5.77350269e-01  5.77350269e-01  5.77350269e-01  6.00860619e-01\n",
      "  6.24869352e-01  6.24869352e-01  6.24869352e-01  6.24869352e-01\n",
      "  6.49407593e-01  6.49407593e-01  6.49407593e-01  6.49407593e-01\n",
      "  6.74508517e-01  6.74508517e-01  7.00207538e-01  7.00207538e-01\n",
      "  7.00207538e-01  7.26542528e-01  7.26542528e-01  7.53554050e-01\n",
      "  7.81285627e-01  7.81285627e-01  8.09784033e-01  8.39099631e-01\n",
      "  8.39099631e-01  8.69286738e-01  8.69286738e-01  9.00404044e-01\n",
      "  9.00404044e-01  9.00404044e-01  9.32515086e-01  9.32515086e-01\n",
      "  9.65688775e-01  9.65688775e-01  9.65688775e-01  9.65688775e-01\n",
      "  9.65688775e-01  1.00000000e+00  1.00000000e+00  1.03553031e+00\n",
      "  1.03553031e+00  1.03553031e+00  1.07236871e+00  1.07236871e+00\n",
      "  1.07236871e+00  1.11061251e+00  1.11061251e+00  1.15036841e+00\n",
      "  1.15036841e+00  1.19175359e+00  1.19175359e+00  1.19175359e+00\n",
      "  1.23489716e+00  1.23489716e+00  1.27994163e+00  1.32704482e+00\n",
      "  1.32704482e+00  1.32704482e+00  1.37638192e+00  1.37638192e+00\n",
      "  1.37638192e+00  1.42814801e+00  1.42814801e+00  1.42814801e+00\n",
      "  1.48256097e+00  1.53986496e+00  1.60033453e+00  1.66427948e+00\n",
      "  1.66427948e+00  1.73205081e+00  1.73205081e+00  1.80404776e+00\n",
      "  1.80404776e+00  1.80404776e+00  1.88072647e+00  1.88072647e+00\n",
      "  1.96261051e+00  1.96261051e+00  2.05030384e+00  2.05030384e+00\n",
      "  2.14450692e+00  2.14450692e+00  2.14450692e+00  2.14450692e+00\n",
      "  2.24603677e+00  2.24603677e+00  2.24603677e+00  2.24603677e+00\n",
      "  2.24603677e+00  2.35585237e+00  2.35585237e+00  2.35585237e+00\n",
      "  2.35585237e+00  2.47508685e+00  2.47508685e+00  2.60508906e+00\n",
      "  2.60508906e+00  2.60508906e+00  2.74747742e+00  2.74747742e+00\n",
      "  2.74747742e+00  2.74747742e+00  2.74747742e+00  2.90421088e+00\n",
      "  2.90421088e+00  3.07768354e+00  3.07768354e+00  3.07768354e+00\n",
      "  3.27085262e+00  3.48741444e+00  3.48741444e+00  3.48741444e+00\n",
      "  3.48741444e+00  3.48741444e+00  3.73205081e+00  4.01078093e+00\n",
      "  4.01078093e+00  4.01078093e+00  4.01078093e+00  4.33147587e+00\n",
      "  4.33147587e+00  4.70463011e+00  5.14455402e+00  5.14455402e+00\n",
      "  5.67128182e+00  5.67128182e+00  5.67128182e+00  5.67128182e+00\n",
      "  5.67128182e+00  6.31375151e+00  6.31375151e+00  8.14434643e+00\n",
      "  9.51436445e+00  9.51436445e+00  9.51436445e+00  9.51436445e+00\n",
      "  1.14300523e+01  1.14300523e+01  1.14300523e+01  1.43006663e+01\n",
      "  1.43006663e+01  1.43006663e+01  1.90811367e+01  1.90811367e+01\n",
      "  1.90811367e+01  2.86362533e+01  2.86362533e+01  5.72899616e+01\n",
      "  5.72899616e+01  5.72899616e+01  5.72899616e+01  5.72899616e+01\n",
      "  5.44374645e+15  5.44374645e+15  5.44374645e+15 -5.72899616e+01\n",
      " -5.72899616e+01 -5.72899616e+01 -2.86362533e+01 -2.86362533e+01\n",
      " -1.90811367e+01 -1.43006663e+01 -1.14300523e+01 -1.14300523e+01\n",
      " -9.51436445e+00 -9.51436445e+00 -9.51436445e+00 -8.14434643e+00\n",
      " -8.14434643e+00 -8.14434643e+00 -7.11536972e+00 -6.31375151e+00\n",
      " -6.31375151e+00 -6.31375151e+00 -6.31375151e+00 -6.31375151e+00\n",
      " -6.31375151e+00 -5.67128182e+00 -5.67128182e+00 -5.67128182e+00\n",
      " -5.67128182e+00 -5.14455402e+00 -5.14455402e+00 -5.14455402e+00\n",
      " -5.14455402e+00 -5.14455402e+00 -4.70463011e+00 -4.33147587e+00\n",
      " -4.33147587e+00 -4.33147587e+00 -4.01078093e+00 -4.01078093e+00\n",
      " -4.01078093e+00 -3.73205081e+00 -3.73205081e+00 -3.73205081e+00\n",
      " -3.48741444e+00 -3.48741444e+00 -3.27085262e+00 -3.27085262e+00\n",
      " -3.27085262e+00 -3.07768354e+00 -3.07768354e+00 -3.07768354e+00\n",
      " -2.74747742e+00 -2.74747742e+00 -2.74747742e+00 -2.74747742e+00\n",
      " -2.60508906e+00 -2.60508906e+00 -2.35585237e+00 -2.24603677e+00\n",
      " -2.24603677e+00 -2.24603677e+00 -2.24603677e+00 -2.14450692e+00\n",
      " -2.14450692e+00 -2.14450692e+00 -2.14450692e+00 -2.05030384e+00\n",
      " -2.05030384e+00 -2.05030384e+00 -1.96261051e+00 -1.96261051e+00\n",
      " -1.96261051e+00 -1.96261051e+00 -1.88072647e+00 -1.80404776e+00\n",
      " -1.80404776e+00 -1.80404776e+00 -1.80404776e+00 -1.80404776e+00\n",
      " -1.73205081e+00 -1.73205081e+00 -1.73205081e+00 -1.66427948e+00\n",
      " -1.66427948e+00 -1.66427948e+00 -1.66427948e+00 -1.60033453e+00\n",
      " -1.60033453e+00 -1.60033453e+00 -1.60033453e+00 -1.60033453e+00\n",
      " -1.60033453e+00 -1.53986496e+00 -1.53986496e+00 -1.53986496e+00\n",
      " -1.53986496e+00 -1.53986496e+00 -1.53986496e+00 -1.53986496e+00\n",
      " -1.48256097e+00 -1.48256097e+00 -1.48256097e+00 -1.42814801e+00\n",
      " -1.37638192e+00 -1.37638192e+00 -1.37638192e+00 -1.37638192e+00\n",
      " -1.32704482e+00 -1.27994163e+00 -1.27994163e+00 -1.27994163e+00\n",
      " -1.27994163e+00 -1.27994163e+00 -1.23489716e+00 -1.19175359e+00\n",
      " -1.19175359e+00 -1.15036841e+00 -1.15036841e+00 -1.11061251e+00\n",
      " -1.11061251e+00 -1.11061251e+00 -1.07236871e+00 -1.07236871e+00\n",
      " -1.07236871e+00 -1.03553031e+00 -1.03553031e+00 -1.03553031e+00\n",
      " -1.00000000e+00 -1.00000000e+00 -1.00000000e+00 -9.65688775e-01\n",
      " -9.65688775e-01 -9.65688775e-01 -9.32515086e-01 -9.00404044e-01\n",
      " -9.00404044e-01 -8.69286738e-01 -8.09784033e-01 -8.09784033e-01\n",
      " -8.09784033e-01 -8.09784033e-01 -8.09784033e-01 -8.09784033e-01\n",
      " -7.81285627e-01 -7.81285627e-01 -7.81285627e-01 -7.53554050e-01\n",
      " -7.53554050e-01 -7.26542528e-01 -7.26542528e-01 -7.26542528e-01\n",
      " -7.26542528e-01 -7.00207538e-01 -7.00207538e-01 -7.00207538e-01\n",
      " -7.00207538e-01 -6.74508517e-01 -6.74508517e-01 -6.74508517e-01\n",
      " -6.74508517e-01 -6.49407593e-01 -6.49407593e-01 -6.49407593e-01\n",
      " -6.49407593e-01 -6.24869352e-01 -6.24869352e-01 -6.24869352e-01\n",
      " -6.24869352e-01 -6.00860619e-01 -6.00860619e-01 -5.77350269e-01\n",
      " -5.77350269e-01 -5.77350269e-01 -5.77350269e-01 -5.77350269e-01\n",
      " -5.77350269e-01 -5.54309051e-01 -5.54309051e-01 -5.31709432e-01\n",
      " -5.31709432e-01 -5.09525449e-01 -5.09525449e-01 -5.09525449e-01\n",
      " -5.09525449e-01 -5.09525449e-01 -5.09525449e-01 -4.87732589e-01\n",
      " -4.87732589e-01 -4.66307658e-01 -4.66307658e-01 -4.66307658e-01\n",
      " -4.66307658e-01 -4.66307658e-01 -4.66307658e-01 -4.45228685e-01\n",
      " -4.24474816e-01 -4.24474816e-01 -4.04026226e-01 -4.04026226e-01\n",
      " -4.04026226e-01 -3.83864035e-01 -3.83864035e-01 -3.63970234e-01\n",
      " -3.63970234e-01 -3.44327613e-01 -3.44327613e-01 -3.05730681e-01\n",
      " -3.05730681e-01 -3.05730681e-01 -2.86745386e-01 -2.86745386e-01\n",
      " -2.86745386e-01 -2.86745386e-01 -2.67949192e-01 -2.67949192e-01\n",
      " -2.49328003e-01 -2.49328003e-01 -2.49328003e-01 -2.30868191e-01\n",
      " -2.30868191e-01 -2.30868191e-01 -2.12556562e-01 -1.94380309e-01\n",
      " -1.94380309e-01 -1.94380309e-01 -1.76326981e-01 -1.76326981e-01\n",
      " -1.76326981e-01 -1.76326981e-01 -1.58384440e-01 -1.22784561e-01\n",
      " -1.22784561e-01 -1.22784561e-01 -1.22784561e-01 -1.22784561e-01\n",
      " -1.22784561e-01 -1.05104235e-01 -1.05104235e-01 -8.74886635e-02\n",
      " -8.74886635e-02 -8.74886635e-02 -6.99268119e-02 -6.99268119e-02\n",
      " -6.99268119e-02 -6.99268119e-02 -6.99268119e-02 -5.24077793e-02\n",
      " -3.49207695e-02 -1.74550649e-02 -1.74550649e-02 -1.74550649e-02]\n"
     ]
    }
   ],
   "source": [
    "print(y, z, i)"
   ]
  },
  {
   "cell_type": "code",
   "execution_count": 94,
   "metadata": {},
   "outputs": [
    {
     "data": {
      "image/png": "[encoded data removed]",
      "text/plain": [
       "<Figure size 432x288 with 1 Axes>"
      ]
     },
     "metadata": {
      "needs_background": "light"
     },
     "output_type": "display_data"
    }
   ],
   "source": [
    "#plt.figure(figsize=(80, 80), dpi=10)\n",
    "plt.plot(x, y, color=\"blue\", label=\"sin\")\n",
    "plt.plot(x, z, color=\"red\", label=\"cos\")\n",
    "#plt.plot(x, i, color=\"green\", label=\"tan\")\n",
    "plt.legend(loc=\"lower right\")\n",
    "plt.show()"
   ]
  },
  {
   "cell_type": "code",
   "execution_count": 96,
   "metadata": {},
   "outputs": [
    {
     "name": "stdout",
     "output_type": "stream",
     "text": [
      "Car red True\n",
      "start\n"
     ]
    }
   ],
   "source": [
    "class Vehicle():\n",
    "    def __init__(self, vehicle, colour, airbag):\n",
    "        self.vehicle = vehicle\n",
    "        self.colour = colour\n",
    "        self.airbag = airbag\n",
    "        print(vehicle, colour, airbag)\n",
    "        \n",
    "    def start(self):\n",
    "        print(\"start\")\n",
    "        \n",
    "car = Vehicle(\"Car\", \"red\", True)\n",
    "car.start()"
   ]
  },
  {
   "cell_type": "code",
   "execution_count": null,
   "metadata": {},
   "outputs": [],
   "source": []
  }
 ],
 "metadata": {
  "kernelspec": {
   "display_name": "Python 3",
   "language": "python",
   "name": "python3"
  },
  "language_info": {
   "codemirror_mode": {
    "name": "ipython",
    "version": 3
   },
   "file_extension": ".py",
   "mimetype": "text/x-python",
   "name": "python",
   "nbconvert_exporter": "python",
   "pygments_lexer": "ipython3",
   "version": "3.7.3"
  }
 },
 "nbformat": 4,
 "nbformat_minor": 2
}
