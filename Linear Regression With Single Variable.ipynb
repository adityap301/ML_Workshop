{
 "cells": [
  {
   "cell_type": "markdown",
   "metadata": {},
   "source": [
    "# DATA \n",
    "\n",
    "$\\theta$ $$\\theta$$ "
   ]
  },
  {
   "cell_type": "markdown",
   "metadata": {},
   "source": [
    "$$J(\\theta) = \\frac{1}{2n} \\sum_{i=0}^n (h_\\theta(x^i) - (y^i))^2$$"
   ]
  },
  {
   "cell_type": "code",
   "execution_count": 87,
   "metadata": {},
   "outputs": [],
   "source": [
    "from sklearn.datasets import make_regression \n",
    "from matplotlib import pyplot as plt"
   ]
  },
  {
   "cell_type": "code",
   "execution_count": 121,
   "metadata": {},
   "outputs": [],
   "source": [
    "x, y = make_regression(n_samples=122, n_features=1, noise=0.0) # rows, cols, noise, "
   ]
  },
  {
   "cell_type": "code",
   "execution_count": 122,
   "metadata": {},
   "outputs": [
    {
     "data": {
      "image/png": "[encoded data removed]",
      "text/plain": [
       "<Figure size 432x288 with 1 Axes>"
      ]
     },
     "metadata": {
      "needs_background": "light"
     },
     "output_type": "display_data"
    }
   ],
   "source": [
    "plt.scatter(x, y, label = \"Scatter plot\")\n",
    "plt.xlabel(\"Input\")\n",
    "plt.ylabel(\"Target\")\n",
    "plt.show()"
   ]
  },
  {
   "cell_type": "code",
   "execution_count": 26,
   "metadata": {},
   "outputs": [
    {
     "data": {
      "text/plain": [
       "(122, 1)"
      ]
     },
     "execution_count": 26,
     "metadata": {},
     "output_type": "execute_result"
    }
   ],
   "source": [
    "x.shape"
   ]
  },
  {
   "cell_type": "code",
   "execution_count": 123,
   "metadata": {},
   "outputs": [
    {
     "data": {
      "text/plain": [
       "(122,)"
      ]
     },
     "execution_count": 123,
     "metadata": {},
     "output_type": "execute_result"
    }
   ],
   "source": [
    "y.shape"
   ]
  },
  {
   "cell_type": "code",
   "execution_count": 137,
   "metadata": {},
   "outputs": [],
   "source": [
    "x, y = make_regression(n_samples=122, n_features=1, noise=10.0,  random_state = 10) # rows, cols, noise, random_state locks the data points (does dont generate random points each time) "
   ]
  },
  {
   "cell_type": "code",
   "execution_count": 138,
   "metadata": {},
   "outputs": [
    {
     "data": {
      "text/plain": [
       "array([-1.95435345e+02, -1.78731277e-01, -8.95921502e+01,  1.05970194e+01,\n",
       "        1.20016747e+02,  1.04656417e+02,  8.78413825e+00, -1.05730200e+02,\n",
       "       -1.77546053e+02, -1.15283407e+01,  6.41839877e+01,  3.17110028e+01,\n",
       "       -6.98837266e+00, -3.44605049e+01, -2.17043406e+01,  5.33093152e+01,\n",
       "        3.00097071e+01, -1.52205811e+02,  3.38526130e+01,  3.38215893e+01,\n",
       "       -3.30808549e+01,  4.80695352e+01, -4.28303258e+01,  8.83195086e+01,\n",
       "        3.10317465e+01,  2.40802402e+01,  5.23416408e+01,  6.80685207e+01,\n",
       "       -6.00468097e+01, -8.38351145e+01, -5.14079240e+00, -7.13652668e+01,\n",
       "       -1.15883589e+02, -6.27810715e+01,  9.65199206e+01, -1.43498515e+02,\n",
       "       -6.20306020e+00, -5.44037262e+01,  1.24002187e+02, -7.44594851e+01,\n",
       "        5.78559796e+01,  2.15906233e+02, -4.59258786e+01, -1.93712730e+01,\n",
       "        6.94801226e+00,  1.87839333e+02,  1.54447612e+01,  1.79642758e+01,\n",
       "        1.04508073e+02, -8.30241926e+01, -1.71426254e+02,  2.85808775e+01,\n",
       "        3.23839512e+01, -2.89752421e+01, -1.30722179e+01, -2.85706046e+01,\n",
       "       -3.75370902e+01,  9.78177607e+01, -1.85397403e+02, -2.44359220e-01,\n",
       "       -4.40834556e+01,  2.60583551e+01, -4.48497799e+01,  2.21294720e+01,\n",
       "        5.76940257e+01,  1.15150604e+02,  1.51116500e+02,  8.83226813e+01,\n",
       "        1.29396286e+01,  1.67814845e+01, -1.45848420e+02,  8.71968695e+01,\n",
       "       -4.02744636e+01, -4.18497205e+01, -1.17252928e+01, -1.74739349e+01,\n",
       "        2.26886790e+02,  2.60459242e+00, -3.87919563e+01, -8.59354796e+01,\n",
       "       -9.03736494e+00,  1.39335542e+02,  8.82898944e+01, -1.34841595e+02,\n",
       "       -1.82601575e+01,  5.10543981e+01, -5.35232233e+00, -7.30201630e+01,\n",
       "        8.80743267e+01,  7.21662591e+01, -1.79591871e+01,  1.39870934e+02,\n",
       "       -1.04555518e+02, -1.56919479e+02, -3.54443889e+01, -2.35365534e+01,\n",
       "        1.05363141e+00, -5.43680864e-01, -1.42024968e+01, -4.70584795e+01,\n",
       "        2.74548594e+01,  3.52508360e+01,  2.56377126e+01, -3.81385897e+01,\n",
       "        6.40474323e+01,  1.26044245e+02, -1.47651764e+02,  2.34802483e+02,\n",
       "        1.15531896e+02, -4.62868485e+01, -1.34929335e+01, -2.17111196e+01,\n",
       "        7.36053261e+01,  2.14443916e+02, -5.15833585e+01,  3.22210924e+01,\n",
       "       -9.52179657e+01,  1.64984693e+02, -1.11433126e+01, -3.99948080e+01,\n",
       "        1.96581651e+01, -2.05739829e+02])"
      ]
     },
     "execution_count": 138,
     "metadata": {},
     "output_type": "execute_result"
    }
   ],
   "source": [
    "y"
   ]
  },
  {
   "cell_type": "code",
   "execution_count": 139,
   "metadata": {},
   "outputs": [
    {
     "data": {
      "image/png": "[encoded data removed]",
      "text/plain": [
       "<Figure size 432x288 with 1 Axes>"
      ]
     },
     "metadata": {
      "needs_background": "light"
     },
     "output_type": "display_data"
    }
   ],
   "source": [
    "plt.scatter(x, y, label = \"Scatter plot\")\n",
    "plt.xlabel(\"Input\")\n",
    "plt.ylabel(\"Target\")\n",
    "plt.show()"
   ]
  },
  {
   "cell_type": "code",
   "execution_count": 140,
   "metadata": {},
   "outputs": [],
   "source": [
    "from sklearn.linear_model import LinearRegression"
   ]
  },
  {
   "cell_type": "code",
   "execution_count": 141,
   "metadata": {},
   "outputs": [],
   "source": [
    "lr = LinearRegression()"
   ]
  },
  {
   "cell_type": "code",
   "execution_count": 142,
   "metadata": {},
   "outputs": [
    {
     "data": {
      "text/plain": [
       "LinearRegression(copy_X=True, fit_intercept=True, n_jobs=None, normalize=False)"
      ]
     },
     "execution_count": 142,
     "metadata": {},
     "output_type": "execute_result"
    }
   ],
   "source": [
    "lr.fit(x, y)"
   ]
  },
  {
   "cell_type": "code",
   "execution_count": 143,
   "metadata": {},
   "outputs": [
    {
     "data": {
      "text/plain": [
       "array([92.14665386])"
      ]
     },
     "execution_count": 143,
     "metadata": {},
     "output_type": "execute_result"
    }
   ],
   "source": [
    "lr.coef_"
   ]
  },
  {
   "cell_type": "code",
   "execution_count": 144,
   "metadata": {},
   "outputs": [
    {
     "data": {
      "text/plain": [
       "array([-1.81457986e+02, -3.71651112e+00, -8.57825835e+01,  1.37853340e+01,\n",
       "        1.04327446e+02,  1.04796832e+02,  3.70281341e+01, -9.55224091e+01,\n",
       "       -1.82993655e+02, -1.28012264e+01,  5.79693316e+01,  4.18009986e+01,\n",
       "       -1.25198570e+01, -3.26200296e+01, -1.88163186e+01,  5.72877709e+01,\n",
       "        1.95423464e+01, -1.48362821e+02,  2.77765647e+01,  4.40690799e+01,\n",
       "       -4.30918363e+01,  5.28599845e+01, -4.79898057e+01,  9.19227745e+01,\n",
       "        1.87528782e+01,  1.07854405e+01,  6.60376333e+01,  6.63876982e+01,\n",
       "       -7.27507852e+01, -7.33573244e+01,  9.03825584e+00, -8.81445152e+01,\n",
       "       -1.20891766e+02, -6.55704178e+01,  8.53984868e+01, -1.38203721e+02,\n",
       "       -1.53057681e+01, -5.20274214e+01,  1.23484298e+02, -6.73461924e+01,\n",
       "        5.80370880e+01,  2.21446987e+02, -4.98339305e+01, -6.69208068e+00,\n",
       "        2.53005324e+01,  1.83701960e+02,  1.30116825e+01,  2.33169663e+01,\n",
       "        9.71853067e+01, -7.17611401e+01, -1.74982713e+02,  3.02106827e+01,\n",
       "        2.59436383e+01, -3.15486136e+01, -1.04501444e+01, -4.43077300e+01,\n",
       "       -2.64908645e+01,  8.53238283e+01, -1.79318695e+02,  1.32354683e+01,\n",
       "       -3.03286330e+01,  2.95484722e+01, -6.66654832e+01,  1.16080462e+01,\n",
       "        6.16211853e+01,  1.02854664e+02,  1.54909597e+02,  9.55350726e+01,\n",
       "        2.74221206e+01,  2.08033132e+01, -1.41620409e+02,  7.89426422e+01,\n",
       "       -3.96717415e+01, -4.26002557e+01,  9.91932558e+00, -1.91012594e+01,\n",
       "        2.28168845e+02,  1.17849811e+00, -4.36402125e+01, -9.87173499e+01,\n",
       "       -5.28460172e+00,  1.29603745e+02,  1.16562772e+02, -1.29932134e+02,\n",
       "       -4.92192924e+00,  4.32537173e+01, -1.97447938e+01, -6.86856566e+01,\n",
       "        7.69882129e+01,  7.83912485e+01, -2.80430661e+01,  1.37578174e+02,\n",
       "       -1.03951033e+02, -1.59862866e+02, -3.60883531e+01, -3.25906592e+01,\n",
       "       -1.60403300e+00,  1.05133920e-02, -2.06117609e+01, -6.35178022e+01,\n",
       "        2.52490613e+01,  3.76610684e+01,  2.97865646e+01, -3.04675818e+01,\n",
       "        6.59151184e+01,  1.21354473e+02, -1.70258224e+02,  2.22333616e+02,\n",
       "        1.11638926e+02, -3.13652442e+01, -9.56247543e+00, -2.42115373e+01,\n",
       "        6.66936212e+01,  2.20549816e+02, -4.54495821e+01,  4.06849715e+01,\n",
       "       -8.42599435e+01,  1.61561842e+02, -2.38493273e+01, -4.89649928e+01,\n",
       "        2.18505586e+01, -1.95647081e+02])"
      ]
     },
     "execution_count": 144,
     "metadata": {},
     "output_type": "execute_result"
    }
   ],
   "source": [
    "lr.predict(x)"
   ]
  },
  {
   "cell_type": "code",
   "execution_count": 145,
   "metadata": {},
   "outputs": [
    {
     "data": {
      "text/plain": [
       "<matplotlib.legend.Legend at 0x7efde64f2cc0>"
      ]
     },
     "execution_count": 145,
     "metadata": {},
     "output_type": "execute_result"
    },
    {
     "data": {
      "image/png": "[encoded data removed]",
      "text/plain": [
       "<Figure size 432x288 with 1 Axes>"
      ]
     },
     "metadata": {
      "needs_background": "light"
     },
     "output_type": "display_data"
    }
   ],
   "source": [
    "plt.scatter(x, y, label = \"Input\", color=\"red\")\n",
    "plt.plot(x, lr.predict(x), label=\"Regression line\", color=\"green\")\n",
    "plt.legend()"
   ]
  },
  {
   "cell_type": "code",
   "execution_count": 146,
   "metadata": {},
   "outputs": [],
   "source": [
    "from sklearn.model_selection import train_test_split"
   ]
  },
  {
   "cell_type": "code",
   "execution_count": 147,
   "metadata": {},
   "outputs": [],
   "source": [
    "XTrain, XTest, YTrain, YTest = train_test_split(x, y, test_size=0.2, random_state=10)"
   ]
  },
  {
   "cell_type": "code",
   "execution_count": 148,
   "metadata": {},
   "outputs": [
    {
     "data": {
      "text/plain": [
       "array([[ 2.39470366],\n",
       "       [ 0.46975143],\n",
       "       [-0.21269764],\n",
       "       [-1.41855603],\n",
       "       [-1.50832149],\n",
       "       [-0.47614201],\n",
       "       [ 1.30847308],\n",
       "       [ 1.74481415],\n",
       "       [ 0.14110417],\n",
       "       [ 2.46765106],\n",
       "       [ 0.84820861],\n",
       "       [-0.34888192],\n",
       "       [-0.11227247],\n",
       "       [-0.31282876],\n",
       "       [-0.06191203],\n",
       "       [-0.29598385],\n",
       "       [-1.95451212],\n",
       "       [-1.32044755],\n",
       "       [ 1.67262221],\n",
       "       [ 0.4609029 ],\n",
       "       [-1.54540029],\n",
       "       [-0.00838385],\n",
       "       [-0.54930901],\n",
       "       [ 0.56515267],\n",
       "       [ 0.39334122],\n",
       "       [-0.35087189],\n",
       "       [ 0.13513688],\n",
       "       [ 0.43302619],\n",
       "       [-0.23218226],\n",
       "       [ 2.40432561],\n",
       "       [ 0.91826915],\n",
       "       [-0.40013835],\n",
       "       [-0.26731719],\n",
       "       [-1.90745689],\n",
       "       [-0.33763234],\n",
       "       [ 0.19501328],\n",
       "       [ 1.02827408],\n",
       "       [ 1.12369125],\n",
       "       [ 1.12878515],\n",
       "       [ 0.26607016],\n",
       "       [-0.69781003],\n",
       "       [ 0.09914922],\n",
       "       [-1.04513254],\n",
       "       [ 0.1327083 ],\n",
       "       [-1.61857075],\n",
       "       [-0.21578989],\n",
       "       [-1.07980489],\n",
       "       [-0.53987907],\n",
       "       [-2.13171211],\n",
       "       [-0.92290926],\n",
       "       [-0.33914025],\n",
       "       [ 0.98907246],\n",
       "       [-0.52929608],\n",
       "       [-0.5017289 ],\n",
       "       [ 0.29294072],\n",
       "       [ 0.71195902],\n",
       "       [ 1.20303737],\n",
       "       [ 0.91745894],\n",
       "       [-0.96506567],\n",
       "       [ 1.10770823],\n",
       "       [-0.14436676],\n",
       "       [-0.75389296],\n",
       "       [ 0.08958761],\n",
       "       [-0.2227737 ],\n",
       "       [ 1.484537  ],\n",
       "       [ 0.10854853],\n",
       "       [-0.36249918],\n",
       "       [ 0.21726515],\n",
       "       [ 0.00429143],\n",
       "       [ 0.31475378],\n",
       "       [ 0.31935642],\n",
       "       [-0.78726893],\n",
       "       [-0.48209314],\n",
       "       [-0.43902624],\n",
       "       [-0.72008556],\n",
       "       [-0.7319695 ],\n",
       "       [ 0.82699862],\n",
       "       [-0.12190569],\n",
       "       [ 0.44513761],\n",
       "       [ 0.22863013],\n",
       "       [ 0.2035808 ],\n",
       "       [-0.17460021],\n",
       "       [ 0.62133597],\n",
       "       [-1.85618548],\n",
       "       [-1.97772828],\n",
       "       [-0.47080725],\n",
       "       [-1.99439377],\n",
       "       [-0.80459114],\n",
       "       [ 0.71527897],\n",
       "       [-1.7433723 ],\n",
       "       [ 0.84222474],\n",
       "       [-0.79800882],\n",
       "       [ 2.38496733],\n",
       "       [ 0.66023155],\n",
       "       [ 0.61320418],\n",
       "       [ 0.26551159],\n",
       "       [-0.14742026]])"
      ]
     },
     "execution_count": 148,
     "metadata": {},
     "output_type": "execute_result"
    }
   ],
   "source": [
    "XTrain"
   ]
  },
  {
   "cell_type": "code",
   "execution_count": 158,
   "metadata": {},
   "outputs": [
    {
     "data": {
      "image/png": "[encoded data removed]",
      "text/plain": [
       "<Figure size 432x288 with 1 Axes>"
      ]
     },
     "metadata": {
      "needs_background": "light"
     },
     "output_type": "display_data"
    }
   ],
   "source": [
    "plt.scatter(XTrain, YTrain, label=\"Train\", color=\"blue\")\n",
    "plt.scatter(XTest, YTest, label=\"Test\", color=\"red\")\n",
    "plt.legend()\n",
    "plt.show()"
   ]
  },
  {
   "cell_type": "code",
   "execution_count": 159,
   "metadata": {},
   "outputs": [
    {
     "data": {
      "text/plain": [
       "LinearRegression(copy_X=True, fit_intercept=True, n_jobs=None, normalize=False)"
      ]
     },
     "execution_count": 159,
     "metadata": {},
     "output_type": "execute_result"
    }
   ],
   "source": [
    "lr.fit(XTrain, YTrain)"
   ]
  },
  {
   "cell_type": "code",
   "execution_count": 160,
   "metadata": {},
   "outputs": [
    {
     "data": {
      "text/plain": [
       "array([  29.83240733,  184.28748319,  -67.25182337,   11.85688242,\n",
       "        -24.03277908,   -1.38104507,   26.2205209 ,   66.27020177,\n",
       "        117.01694312,  123.95201041,  -85.72428377,   27.70189577,\n",
       "         37.96087513,  -32.42829396,  -51.90308259,   -3.49765607,\n",
       "        130.08343016,  -44.16828826,   58.30886974,   -6.47904709,\n",
       "         -5.06881451,   97.60156757,   23.58871003, -103.92827876,\n",
       "         66.39295644])"
      ]
     },
     "execution_count": 160,
     "metadata": {},
     "output_type": "execute_result"
    }
   ],
   "source": [
    "lr.predict(XTest)"
   ]
  },
  {
   "cell_type": "code",
   "execution_count": 161,
   "metadata": {},
   "outputs": [
    {
     "data": {
      "text/plain": [
       "array([ 2.60583551e+01,  1.87839333e+02, -7.44594851e+01,  2.21294720e+01,\n",
       "       -2.17111196e+01,  1.05363141e+00,  3.23839512e+01,  6.40474323e+01,\n",
       "        8.82898944e+01,  1.24002187e+02, -8.95921502e+01,  1.29396286e+01,\n",
       "        3.52508360e+01, -2.35365534e+01, -5.44037262e+01, -1.78731277e-01,\n",
       "        1.39335542e+02, -2.85706046e+01,  6.41839877e+01, -1.93712730e+01,\n",
       "       -9.03736494e+00,  1.04508073e+02,  1.79642758e+01, -1.04555518e+02,\n",
       "        5.23416408e+01])"
      ]
     },
     "execution_count": 161,
     "metadata": {},
     "output_type": "execute_result"
    }
   ],
   "source": [
    "YTest"
   ]
  },
  {
   "cell_type": "code",
   "execution_count": 173,
   "metadata": {},
   "outputs": [
    {
     "data": {
      "image/png": "[encoded data removed]",
      "text/plain": [
       "<Figure size 432x288 with 1 Axes>"
      ]
     },
     "metadata": {
      "needs_background": "light"
     },
     "output_type": "display_data"
    }
   ],
   "source": [
    "plt.scatter(XTrain, YTrain, label=\"Train\", color=\"blue\")\n",
    "plt.scatter(XTest, YTest, label=\"Test\", color=\"red\")\n",
    "plt.plot(XTest, lr.predict(XTest), label=\"Regression\", color=\"yellow\")\n",
    "plt.legend()\n",
    "plt.show()"
   ]
  },
  {
   "cell_type": "code",
   "execution_count": 169,
   "metadata": {},
   "outputs": [],
   "source": [
    "#Means_squared_error\n",
    "from sklearn.metrics import mean_squared_error"
   ]
  },
  {
   "cell_type": "code",
   "execution_count": 171,
   "metadata": {},
   "outputs": [
    {
     "data": {
      "text/plain": [
       "88.91682836505295"
      ]
     },
     "execution_count": 171,
     "metadata": {},
     "output_type": "execute_result"
    }
   ],
   "source": [
    "mean_squared_error(YTest, lr.predict(XTest))"
   ]
  },
  {
   "cell_type": "code",
   "execution_count": 175,
   "metadata": {},
   "outputs": [
    {
     "data": {
      "text/plain": [
       "90.69903506047424"
      ]
     },
     "execution_count": 175,
     "metadata": {},
     "output_type": "execute_result"
    }
   ],
   "source": [
    "mean_squared_error(YTrain, lr.predict(XTrain))"
   ]
  },
  {
   "cell_type": "code",
   "execution_count": 176,
   "metadata": {},
   "outputs": [],
   "source": [
    "x, y = make_regression(n_samples=10, n_features=1, noise=12.0) # rows, cols, noise, "
   ]
  },
  {
   "cell_type": "code",
   "execution_count": 193,
   "metadata": {},
   "outputs": [],
   "source": [
    "XTrain, XTest, YTrain, YTest = train_test_split(x, y, test_size=0.3, random_state=12)"
   ]
  },
  {
   "cell_type": "code",
   "execution_count": 194,
   "metadata": {},
   "outputs": [
    {
     "data": {
      "text/plain": [
       "LinearRegression(copy_X=True, fit_intercept=True, n_jobs=None, normalize=False)"
      ]
     },
     "execution_count": 194,
     "metadata": {},
     "output_type": "execute_result"
    }
   ],
   "source": [
    "lr.fit(XTrain, YTrain)"
   ]
  },
  {
   "cell_type": "code",
   "execution_count": 195,
   "metadata": {},
   "outputs": [
    {
     "data": {
      "text/plain": [
       "array([113.54288463,  49.15286681,  11.36767922])"
      ]
     },
     "execution_count": 195,
     "metadata": {},
     "output_type": "execute_result"
    }
   ],
   "source": [
    "lr.predict(XTest)"
   ]
  },
  {
   "cell_type": "code",
   "execution_count": 196,
   "metadata": {},
   "outputs": [
    {
     "data": {
      "text/plain": [
       "array([79.64567365, 16.71150089, -0.15034037])"
      ]
     },
     "execution_count": 196,
     "metadata": {},
     "output_type": "execute_result"
    }
   ],
   "source": [
    "YTest"
   ]
  },
  {
   "cell_type": "code",
   "execution_count": 197,
   "metadata": {},
   "outputs": [
    {
     "data": {
      "image/png": "[encoded data removed]",
      "text/plain": [
       "<Figure size 432x288 with 1 Axes>"
      ]
     },
     "metadata": {
      "needs_background": "light"
     },
     "output_type": "display_data"
    }
   ],
   "source": [
    "plt.scatter(XTrain, YTrain, label=\"Train\", color=\"blue\")\n",
    "plt.scatter(XTest, YTest, label=\"Test\", color=\"red\")\n",
    "plt.plot(XTest, lr.predict(XTest), label=\"Regression\", color=\"yellow\")\n",
    "plt.legend()\n",
    "plt.show()"
   ]
  },
  {
   "cell_type": "code",
   "execution_count": 198,
   "metadata": {},
   "outputs": [
    {
     "data": {
      "text/plain": [
       "778.0426369652672"
      ]
     },
     "execution_count": 198,
     "metadata": {},
     "output_type": "execute_result"
    }
   ],
   "source": [
    "mean_squared_error(YTest, lr.predict(XTest))"
   ]
  },
  {
   "cell_type": "code",
   "execution_count": 199,
   "metadata": {},
   "outputs": [
    {
     "data": {
      "text/plain": [
       "28.992788903370347"
      ]
     },
     "execution_count": 199,
     "metadata": {},
     "output_type": "execute_result"
    }
   ],
   "source": [
    "mean_squared_error(YTrain, lr.predict(XTrain))"
   ]
  },
  {
   "cell_type": "code",
   "execution_count": null,
   "metadata": {},
   "outputs": [],
   "source": []
  }
 ],
 "metadata": {
  "kernelspec": {
   "display_name": "Python 3",
   "language": "python",
   "name": "python3"
  },
  "language_info": {
   "codemirror_mode": {
    "name": "ipython",
    "version": 3
   },
   "file_extension": ".py",
   "mimetype": "text/x-python",
   "name": "python",
   "nbconvert_exporter": "python",
   "pygments_lexer": "ipython3",
   "version": "3.7.3"
  }
 },
 "nbformat": 4,
 "nbformat_minor": 2
}
